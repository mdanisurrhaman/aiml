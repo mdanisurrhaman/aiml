{
 "cells": [
  {
   "cell_type": "code",
   "execution_count": 4,
   "id": "92e64cd4-a15d-4ad2-b720-76c7ee8b78cc",
   "metadata": {},
   "outputs": [],
   "source": [
    "import numpy as np"
   ]
  },
  {
   "cell_type": "code",
   "execution_count": 5,
   "id": "b3f3c03b-58e7-4305-9926-ff976f14210e",
   "metadata": {},
   "outputs": [],
   "source": [
    "x=np.array([10,20,30])          #creating numpy array "
   ]
  },
  {
   "cell_type": "code",
   "execution_count": 6,
   "id": "1acde4ed-ce2b-4851-846c-8086b157e04f",
   "metadata": {},
   "outputs": [
    {
     "data": {
      "text/plain": [
       "array([10, 20, 30])"
      ]
     },
     "execution_count": 6,
     "metadata": {},
     "output_type": "execute_result"
    }
   ],
   "source": [
    "x"
   ]
  },
  {
   "cell_type": "code",
   "execution_count": 7,
   "id": "a6b43df3-c9c9-44b1-bd2e-bf7d8e57ae85",
   "metadata": {},
   "outputs": [
    {
     "data": {
      "text/plain": [
       "numpy.ndarray"
      ]
     },
     "execution_count": 7,
     "metadata": {},
     "output_type": "execute_result"
    }
   ],
   "source": [
    "type(x)"
   ]
  },
  {
   "cell_type": "code",
   "execution_count": 8,
   "id": "cdb49521-6434-47a9-ba26-97abd17d74a3",
   "metadata": {},
   "outputs": [],
   "source": [
    "a =np.array([[10,20,30],[40,50,60]])"
   ]
  },
  {
   "cell_type": "code",
   "execution_count": 9,
   "id": "4103c5ae-9e98-49db-9b09-b0f3ed248b92",
   "metadata": {},
   "outputs": [
    {
     "data": {
      "text/plain": [
       "array([[10, 20, 30],\n",
       "       [40, 50, 60]])"
      ]
     },
     "execution_count": 9,
     "metadata": {},
     "output_type": "execute_result"
    }
   ],
   "source": [
    "a"
   ]
  },
  {
   "cell_type": "code",
   "execution_count": 10,
   "id": "10319650-be50-49e3-b5ed-eea4d6fac09e",
   "metadata": {},
   "outputs": [],
   "source": [
    "#difrence between numpy array and list\n",
    "#list-slow works\n",
    "#numpy array-fast works\n"
   ]
  },
  {
   "cell_type": "code",
   "execution_count": 11,
   "id": "552c032a-e1d6-423f-ac35-d0ea4f6b2a4d",
   "metadata": {},
   "outputs": [
    {
     "name": "stdout",
     "output_type": "stream",
     "text": [
      "155 µs ± 13.5 µs per loop (mean ± std. dev. of 7 runs, 1,000 loops each)\n"
     ]
    }
   ],
   "source": [
    "%timeit [i*i for i in range(1000)]"
   ]
  },
  {
   "cell_type": "code",
   "execution_count": 12,
   "id": "2a358b09-7815-4b68-8ba6-d9c516224124",
   "metadata": {},
   "outputs": [],
   "source": [
    "arr1=np.arange(1000)"
   ]
  },
  {
   "cell_type": "code",
   "execution_count": 13,
   "id": "69142356-0d3f-4e66-8586-82335ad0309c",
   "metadata": {},
   "outputs": [
    {
     "name": "stdout",
     "output_type": "stream",
     "text": [
      "4.69 µs ± 519 ns per loop (mean ± std. dev. of 7 runs, 100,000 loops each)\n"
     ]
    }
   ],
   "source": [
    "%timeit arr1*4\n"
   ]
  },
  {
   "cell_type": "code",
   "execution_count": 14,
   "id": "b97e2ac4-5c0a-450d-b194-d7e64d1108c5",
   "metadata": {},
   "outputs": [],
   "source": [
    "a=np.array([1,2,3,4,5])\n"
   ]
  },
  {
   "cell_type": "code",
   "execution_count": 15,
   "id": "501e69dc-be48-452e-b31f-efa05a6cdfe6",
   "metadata": {},
   "outputs": [
    {
     "data": {
      "text/plain": [
       "array([1, 2, 3, 4, 5])"
      ]
     },
     "execution_count": 15,
     "metadata": {},
     "output_type": "execute_result"
    }
   ],
   "source": [
    "a"
   ]
  },
  {
   "cell_type": "code",
   "execution_count": 16,
   "id": "805f5890-863d-4cb7-b2ca-300e53f399ad",
   "metadata": {},
   "outputs": [
    {
     "data": {
      "text/plain": [
       "array([10, 20, 30, 40])"
      ]
     },
     "execution_count": 16,
     "metadata": {},
     "output_type": "execute_result"
    }
   ],
   "source": [
    "list1=np.array([10,20,30,40])\n",
    "list1"
   ]
  },
  {
   "cell_type": "code",
   "execution_count": 17,
   "id": "3702c784-72f4-4e38-82cc-56340fd8aba7",
   "metadata": {},
   "outputs": [
    {
     "data": {
      "text/plain": [
       "numpy.ndarray"
      ]
     },
     "execution_count": 17,
     "metadata": {},
     "output_type": "execute_result"
    }
   ],
   "source": [
    "\n",
    "\n",
    "type(list1)"
   ]
  },
  {
   "cell_type": "code",
   "execution_count": 18,
   "id": "81a45652-786b-47bf-b000-3258c3ebf834",
   "metadata": {},
   "outputs": [],
   "source": [
    "\n",
    "\n",
    "\n",
    "array1=np.array(list1)"
   ]
  },
  {
   "cell_type": "code",
   "execution_count": 19,
   "id": "ae2f987f-cfd1-41da-9cfa-d5dac2672545",
   "metadata": {},
   "outputs": [
    {
     "data": {
      "text/plain": [
       "array([10, 20, 30, 40])"
      ]
     },
     "execution_count": 19,
     "metadata": {},
     "output_type": "execute_result"
    }
   ],
   "source": [
    "array1"
   ]
  },
  {
   "cell_type": "code",
   "execution_count": 20,
   "id": "a003027f-f564-47f9-a028-603ac10e8aa8",
   "metadata": {},
   "outputs": [
    {
     "data": {
      "text/plain": [
       "numpy.ndarray"
      ]
     },
     "execution_count": 20,
     "metadata": {},
     "output_type": "execute_result"
    }
   ],
   "source": [
    "type(array1)"
   ]
  },
  {
   "cell_type": "code",
   "execution_count": 21,
   "id": "76b4859a-ba42-41ec-83d2-624a0f9d7bcc",
   "metadata": {},
   "outputs": [
    {
     "data": {
      "text/plain": [
       "1"
      ]
     },
     "execution_count": 21,
     "metadata": {},
     "output_type": "execute_result"
    }
   ],
   "source": [
    "#check dimension of an array\n",
    "array1.ndim"
   ]
  },
  {
   "cell_type": "code",
   "execution_count": 22,
   "id": "30424b06-b9f7-46f4-8c21-0896e55141ba",
   "metadata": {},
   "outputs": [
    {
     "data": {
      "text/plain": [
       "(4,)"
      ]
     },
     "execution_count": 22,
     "metadata": {},
     "output_type": "execute_result"
    }
   ],
   "source": [
    "#print the shape of an array in the form-r,c\n",
    "array1.shape"
   ]
  },
  {
   "cell_type": "code",
   "execution_count": 23,
   "id": "2aa21ba2-24c7-4536-90d4-108d8086a03a",
   "metadata": {},
   "outputs": [],
   "source": [
    "array2=np.array([[10,20,30,40],[50,60,70,80]])"
   ]
  },
  {
   "cell_type": "code",
   "execution_count": 24,
   "id": "36e25330-2fb3-4850-8081-13cf33e5e317",
   "metadata": {},
   "outputs": [
    {
     "data": {
      "text/plain": [
       "array([[10, 20, 30, 40],\n",
       "       [50, 60, 70, 80]])"
      ]
     },
     "execution_count": 24,
     "metadata": {},
     "output_type": "execute_result"
    }
   ],
   "source": [
    "array2"
   ]
  },
  {
   "cell_type": "code",
   "execution_count": 25,
   "id": "8869ec18-8208-4688-bfae-2d753ba35939",
   "metadata": {},
   "outputs": [
    {
     "data": {
      "text/plain": [
       "numpy.ndarray"
      ]
     },
     "execution_count": 25,
     "metadata": {},
     "output_type": "execute_result"
    }
   ],
   "source": [
    "\n",
    "\n",
    "\n",
    "type(array2)"
   ]
  },
  {
   "cell_type": "code",
   "execution_count": 26,
   "id": "177ce44c-6ad8-4532-b47c-b2cb8839fa8c",
   "metadata": {},
   "outputs": [
    {
     "data": {
      "text/plain": [
       "2"
      ]
     },
     "execution_count": 26,
     "metadata": {},
     "output_type": "execute_result"
    }
   ],
   "source": [
    "\n",
    "array2.ndim"
   ]
  },
  {
   "cell_type": "code",
   "execution_count": 27,
   "id": "2e2e1172-580d-43aa-8f66-5335d8b8a64a",
   "metadata": {},
   "outputs": [
    {
     "data": {
      "text/plain": [
       "(2, 4)"
      ]
     },
     "execution_count": 27,
     "metadata": {},
     "output_type": "execute_result"
    }
   ],
   "source": [
    "\n",
    "array2.shape   # no. of elements in each dimension\n",
    "                 # no. of rows and columns"
   ]
  },
  {
   "cell_type": "code",
   "execution_count": 28,
   "id": "b8bf3b5a-074a-461d-9ade-11e0b1062622",
   "metadata": {},
   "outputs": [
    {
     "data": {
      "text/plain": [
       "8"
      ]
     },
     "execution_count": 28,
     "metadata": {},
     "output_type": "execute_result"
    }
   ],
   "source": [
    "array2.size     #gives the count of total number of element in an array"
   ]
  },
  {
   "cell_type": "markdown",
   "id": "6d5fdf68-7da5-40ad-8c2f-4fd67312e9a5",
   "metadata": {},
   "source": [
    "<h1>DATA TYPE</h1>"
   ]
  },
  {
   "cell_type": "code",
   "execution_count": 29,
   "id": "b8401399-8294-439f-af54-5cf0cc796124",
   "metadata": {},
   "outputs": [],
   "source": [
    "a=np.array(['1','2','3'],dtype=int)\n"
   ]
  },
  {
   "cell_type": "code",
   "execution_count": 30,
   "id": "86aa5365-829c-474f-9988-4020c0da743d",
   "metadata": {},
   "outputs": [
    {
     "data": {
      "text/plain": [
       "array([1, 2, 3])"
      ]
     },
     "execution_count": 30,
     "metadata": {},
     "output_type": "execute_result"
    }
   ],
   "source": [
    "a"
   ]
  },
  {
   "cell_type": "code",
   "execution_count": 31,
   "id": "faa4e269-ad63-48ff-a20b-8df82d028088",
   "metadata": {},
   "outputs": [],
   "source": [
    "b=np.array(['1','2','3'],dtype=float)"
   ]
  },
  {
   "cell_type": "code",
   "execution_count": 32,
   "id": "eb0f127e-e361-4a99-91c0-b65f3a1de0f5",
   "metadata": {},
   "outputs": [
    {
     "data": {
      "text/plain": [
       "array([1., 2., 3.])"
      ]
     },
     "execution_count": 32,
     "metadata": {},
     "output_type": "execute_result"
    }
   ],
   "source": [
    "b"
   ]
  },
  {
   "cell_type": "code",
   "execution_count": 33,
   "id": "7faebc46-39e3-445f-bc16-72a04079b08d",
   "metadata": {},
   "outputs": [],
   "source": [
    "c=np.array([23,54,77],dtype=str)"
   ]
  },
  {
   "cell_type": "code",
   "execution_count": 34,
   "id": "4075a30c-53b4-49f8-b0f2-5b96c1e42836",
   "metadata": {},
   "outputs": [
    {
     "data": {
      "text/plain": [
       "array(['23', '54', '77'], dtype='<U2')"
      ]
     },
     "execution_count": 34,
     "metadata": {},
     "output_type": "execute_result"
    }
   ],
   "source": [
    "c"
   ]
  },
  {
   "cell_type": "code",
   "execution_count": 35,
   "id": "d2b311e9-1736-41b2-957f-133100b857cf",
   "metadata": {},
   "outputs": [],
   "source": [
    "a1=np.array([[1,2,3],[4,5],'anish',1000],dtype=object)"
   ]
  },
  {
   "cell_type": "code",
   "execution_count": 36,
   "id": "ad01f0bf-6828-4202-a818-87344afaebd7",
   "metadata": {},
   "outputs": [
    {
     "data": {
      "text/plain": [
       "array([list([1, 2, 3]), list([4, 5]), 'anish', 1000], dtype=object)"
      ]
     },
     "execution_count": 36,
     "metadata": {},
     "output_type": "execute_result"
    }
   ],
   "source": [
    "a1"
   ]
  },
  {
   "cell_type": "code",
   "execution_count": 37,
   "id": "9ac4f23c-bbc2-4786-a455-eb34a8ddb2ca",
   "metadata": {},
   "outputs": [
    {
     "data": {
      "text/plain": [
       "1"
      ]
     },
     "execution_count": 37,
     "metadata": {},
     "output_type": "execute_result"
    }
   ],
   "source": [
    "a1.ndim"
   ]
  },
  {
   "cell_type": "code",
   "execution_count": 38,
   "id": "3611a62c-cef8-4c90-b061-ddf78d77ed37",
   "metadata": {},
   "outputs": [
    {
     "data": {
      "text/plain": [
       "(4,)"
      ]
     },
     "execution_count": 38,
     "metadata": {},
     "output_type": "execute_result"
    }
   ],
   "source": [
    "a1.shape"
   ]
  },
  {
   "cell_type": "code",
   "execution_count": 39,
   "id": "5441967b-37cc-47ea-a263-c2ff3b3e639f",
   "metadata": {},
   "outputs": [
    {
     "data": {
      "text/plain": [
       "4"
      ]
     },
     "execution_count": 39,
     "metadata": {},
     "output_type": "execute_result"
    }
   ],
   "source": [
    "a1.size"
   ]
  },
  {
   "cell_type": "code",
   "execution_count": 40,
   "id": "0202ec6c-370e-42aa-94fb-e33e5f110a72",
   "metadata": {},
   "outputs": [],
   "source": [
    "#arange array---->\n"
   ]
  },
  {
   "cell_type": "code",
   "execution_count": 41,
   "id": "83e6d448-738a-4d99-888b-fde2788c12a2",
   "metadata": {},
   "outputs": [],
   "source": [
    "## np.array([[1,2,3,4,5], [6,7,8,9,10],......., [46,47,48,49,50]])\n",
    "array3=np.arange(50)"
   ]
  },
  {
   "cell_type": "code",
   "execution_count": 42,
   "id": "f939a7bb-cca0-46d0-8ff7-506e6a0930bf",
   "metadata": {},
   "outputs": [
    {
     "data": {
      "text/plain": [
       "array([ 0,  1,  2,  3,  4,  5,  6,  7,  8,  9, 10, 11, 12, 13, 14, 15, 16,\n",
       "       17, 18, 19, 20, 21, 22, 23, 24, 25, 26, 27, 28, 29, 30, 31, 32, 33,\n",
       "       34, 35, 36, 37, 38, 39, 40, 41, 42, 43, 44, 45, 46, 47, 48, 49])"
      ]
     },
     "execution_count": 42,
     "metadata": {},
     "output_type": "execute_result"
    }
   ],
   "source": [
    "array3"
   ]
  },
  {
   "cell_type": "code",
   "execution_count": 43,
   "id": "08022cb5-5ee1-4d56-8783-db276f775948",
   "metadata": {},
   "outputs": [
    {
     "data": {
      "text/plain": [
       "(50,)"
      ]
     },
     "execution_count": 43,
     "metadata": {},
     "output_type": "execute_result"
    }
   ],
   "source": [
    "array3.shape"
   ]
  },
  {
   "cell_type": "code",
   "execution_count": 44,
   "id": "6b4916aa-cbe6-4756-8890-c9f3c64a9416",
   "metadata": {},
   "outputs": [
    {
     "data": {
      "text/plain": [
       "50"
      ]
     },
     "execution_count": 44,
     "metadata": {},
     "output_type": "execute_result"
    }
   ],
   "source": [
    "array3.size"
   ]
  },
  {
   "cell_type": "code",
   "execution_count": 45,
   "id": "6ca6422a-611f-47eb-83fe-38e5ee1d1725",
   "metadata": {},
   "outputs": [],
   "source": [
    "array3=np.arange(50).reshape(10,5)"
   ]
  },
  {
   "cell_type": "code",
   "execution_count": 46,
   "id": "58faf460-fc79-4f6a-bf7f-3a00300eebf5",
   "metadata": {},
   "outputs": [
    {
     "data": {
      "text/plain": [
       "array([[ 0,  1,  2,  3,  4],\n",
       "       [ 5,  6,  7,  8,  9],\n",
       "       [10, 11, 12, 13, 14],\n",
       "       [15, 16, 17, 18, 19],\n",
       "       [20, 21, 22, 23, 24],\n",
       "       [25, 26, 27, 28, 29],\n",
       "       [30, 31, 32, 33, 34],\n",
       "       [35, 36, 37, 38, 39],\n",
       "       [40, 41, 42, 43, 44],\n",
       "       [45, 46, 47, 48, 49]])"
      ]
     },
     "execution_count": 46,
     "metadata": {},
     "output_type": "execute_result"
    }
   ],
   "source": [
    "array3"
   ]
  },
  {
   "cell_type": "code",
   "execution_count": 47,
   "id": "da0f85cc-6cf7-4310-ac93-adf1de02a5c8",
   "metadata": {},
   "outputs": [],
   "source": [
    "a2=np.array([1.9,2.0,3.6],dtype=int)"
   ]
  },
  {
   "cell_type": "code",
   "execution_count": 48,
   "id": "d4959412-8705-4a14-a661-8ee36d1df534",
   "metadata": {},
   "outputs": [
    {
     "data": {
      "text/plain": [
       "array([1, 2, 3])"
      ]
     },
     "execution_count": 48,
     "metadata": {},
     "output_type": "execute_result"
    }
   ],
   "source": [
    "a2"
   ]
  },
  {
   "cell_type": "code",
   "execution_count": 49,
   "id": "9d2b98a3-6999-4b44-9529-0aa80af875e7",
   "metadata": {},
   "outputs": [],
   "source": [
    "a=np.array([2,3,'anish'],dtype='object')"
   ]
  },
  {
   "cell_type": "code",
   "execution_count": 50,
   "id": "fd6e7339-7839-4b16-94e7-b03b9e2d39f7",
   "metadata": {},
   "outputs": [
    {
     "data": {
      "text/plain": [
       "array([2, 3, 'anish'], dtype=object)"
      ]
     },
     "execution_count": 50,
     "metadata": {},
     "output_type": "execute_result"
    }
   ],
   "source": [
    "a"
   ]
  },
  {
   "cell_type": "markdown",
   "id": "50854b8b-68a6-49fe-99f6-1a931432a2d3",
   "metadata": {},
   "source": [
    "<h1>Element-Wise arithmatic opration </h1>"
   ]
  },
  {
   "cell_type": "code",
   "execution_count": 51,
   "id": "f2621705-94dd-4e2f-be84-0f4d7d7ff9f0",
   "metadata": {},
   "outputs": [],
   "source": [
    "a=[1,2,3,4,5]"
   ]
  },
  {
   "cell_type": "code",
   "execution_count": 52,
   "id": "4a9ba291-f1e9-4660-be29-390c1aaaaa0f",
   "metadata": {},
   "outputs": [],
   "source": [
    "array4=np.array(a)\n"
   ]
  },
  {
   "cell_type": "code",
   "execution_count": 53,
   "id": "e5f2ac83-1042-480f-9773-6615460a87d4",
   "metadata": {},
   "outputs": [
    {
     "data": {
      "text/plain": [
       "array([ 1,  4,  9, 16, 25])"
      ]
     },
     "execution_count": 53,
     "metadata": {},
     "output_type": "execute_result"
    }
   ],
   "source": [
    "array4**2"
   ]
  },
  {
   "cell_type": "code",
   "execution_count": 54,
   "id": "33aee971-dfef-424d-9ccd-768940244a3f",
   "metadata": {},
   "outputs": [
    {
     "data": {
      "text/plain": [
       "array([11, 12, 13, 14, 15])"
      ]
     },
     "execution_count": 54,
     "metadata": {},
     "output_type": "execute_result"
    }
   ],
   "source": [
    "array4+10"
   ]
  },
  {
   "cell_type": "code",
   "execution_count": 55,
   "id": "1db7c296-cb4e-427a-9418-6126579e5d1e",
   "metadata": {},
   "outputs": [
    {
     "data": {
      "text/plain": [
       "array([0.25, 0.5 , 0.75, 1.  , 1.25])"
      ]
     },
     "execution_count": 55,
     "metadata": {},
     "output_type": "execute_result"
    }
   ],
   "source": [
    "array4/4"
   ]
  },
  {
   "cell_type": "markdown",
   "id": "9f10d4ca-09c3-44ff-97e2-1358b5728093",
   "metadata": {},
   "source": [
    "<h1>Indexing</h1>"
   ]
  },
  {
   "cell_type": "code",
   "execution_count": 56,
   "id": "3356f6f4-eb63-4189-ad66-b61dcb53762c",
   "metadata": {},
   "outputs": [],
   "source": [
    "a=np.array([24,34,56,88,78,30,46,23,44])"
   ]
  },
  {
   "cell_type": "code",
   "execution_count": 57,
   "id": "aa0eac53-663c-4b03-9e52-dcdc97f3bb1b",
   "metadata": {},
   "outputs": [
    {
     "data": {
      "text/plain": [
       "array([24, 34, 56, 88, 78, 30, 46, 23, 44])"
      ]
     },
     "execution_count": 57,
     "metadata": {},
     "output_type": "execute_result"
    }
   ],
   "source": [
    "a\n"
   ]
  },
  {
   "cell_type": "code",
   "execution_count": 58,
   "id": "c3ea87fa-dc70-4834-ba65-0da1ca44bd27",
   "metadata": {},
   "outputs": [
    {
     "data": {
      "text/plain": [
       "24"
      ]
     },
     "execution_count": 58,
     "metadata": {},
     "output_type": "execute_result"
    }
   ],
   "source": [
    "a[0]"
   ]
  },
  {
   "cell_type": "code",
   "execution_count": 59,
   "id": "24b0156a-a40b-4cd3-adb8-6d54a366110f",
   "metadata": {},
   "outputs": [
    {
     "data": {
      "text/plain": [
       "30"
      ]
     },
     "execution_count": 59,
     "metadata": {},
     "output_type": "execute_result"
    }
   ],
   "source": [
    "a[5]"
   ]
  },
  {
   "cell_type": "code",
   "execution_count": 60,
   "id": "53f98d5c-815b-4e95-89d9-9d561881592e",
   "metadata": {},
   "outputs": [
    {
     "data": {
      "text/plain": [
       "78"
      ]
     },
     "execution_count": 60,
     "metadata": {},
     "output_type": "execute_result"
    }
   ],
   "source": [
    "a[-5]"
   ]
  },
  {
   "cell_type": "code",
   "execution_count": 61,
   "id": "8fe6a6c2-12c8-43a9-b03b-df28a9c05256",
   "metadata": {},
   "outputs": [],
   "source": [
    "b = a.reshape(3,3)"
   ]
  },
  {
   "cell_type": "code",
   "execution_count": 62,
   "id": "dfb99012-c9b1-40b6-98ca-9f3e2cccab83",
   "metadata": {},
   "outputs": [
    {
     "data": {
      "text/plain": [
       "array([[24, 34, 56],\n",
       "       [88, 78, 30],\n",
       "       [46, 23, 44]])"
      ]
     },
     "execution_count": 62,
     "metadata": {},
     "output_type": "execute_result"
    }
   ],
   "source": [
    "b"
   ]
  },
  {
   "cell_type": "code",
   "execution_count": 63,
   "id": "567610c4-98d1-4648-b2df-c89221629950",
   "metadata": {},
   "outputs": [
    {
     "data": {
      "text/plain": [
       "array([24, 34, 56])"
      ]
     },
     "execution_count": 63,
     "metadata": {},
     "output_type": "execute_result"
    }
   ],
   "source": [
    "b[0]"
   ]
  },
  {
   "cell_type": "code",
   "execution_count": 64,
   "id": "56860fe1-cb97-4030-8291-31f6de1bcbf9",
   "metadata": {},
   "outputs": [
    {
     "data": {
      "text/plain": [
       "24"
      ]
     },
     "execution_count": 64,
     "metadata": {},
     "output_type": "execute_result"
    }
   ],
   "source": [
    "b[0][0]"
   ]
  },
  {
   "cell_type": "code",
   "execution_count": 65,
   "id": "0ed637ce-70c8-477d-8ba5-2f2a727a5638",
   "metadata": {},
   "outputs": [
    {
     "data": {
      "text/plain": [
       "array([46, 23, 44])"
      ]
     },
     "execution_count": 65,
     "metadata": {},
     "output_type": "execute_result"
    }
   ],
   "source": [
    "b[-1]"
   ]
  },
  {
   "cell_type": "code",
   "execution_count": 66,
   "id": "a5b75d7c-342a-4c12-8e26-5e3d6f57f679",
   "metadata": {},
   "outputs": [
    {
     "data": {
      "text/plain": [
       "44"
      ]
     },
     "execution_count": 66,
     "metadata": {},
     "output_type": "execute_result"
    }
   ],
   "source": [
    "b[-1][-1]"
   ]
  },
  {
   "cell_type": "code",
   "execution_count": 67,
   "id": "4e280e77-4403-45c6-911e-feded2d2a725",
   "metadata": {},
   "outputs": [
    {
     "data": {
      "text/plain": [
       "array([[24, 34, 56],\n",
       "       [46, 23, 44]])"
      ]
     },
     "execution_count": 67,
     "metadata": {},
     "output_type": "execute_result"
    }
   ],
   "source": [
    "#providing list of indexing\n",
    "b[[0,2]]"
   ]
  },
  {
   "cell_type": "markdown",
   "id": "a60d3726-1493-412a-928f-49ac1210fa63",
   "metadata": {},
   "source": [
    "<h1>SLICING</h1>"
   ]
  },
  {
   "cell_type": "code",
   "execution_count": 68,
   "id": "8d324127-5e2a-4954-a21c-7ff6871a7d1d",
   "metadata": {},
   "outputs": [
    {
     "data": {
      "text/plain": [
       "array([24, 34, 56, 88, 78, 30, 46, 23, 44])"
      ]
     },
     "execution_count": 68,
     "metadata": {},
     "output_type": "execute_result"
    }
   ],
   "source": [
    "a"
   ]
  },
  {
   "cell_type": "code",
   "execution_count": 69,
   "id": "7848eaa8-5f9b-42e4-9737-0081ea8d87f8",
   "metadata": {},
   "outputs": [
    {
     "data": {
      "text/plain": [
       "array([24, 34, 56, 88, 78, 30, 46, 23, 44])"
      ]
     },
     "execution_count": 69,
     "metadata": {},
     "output_type": "execute_result"
    }
   ],
   "source": [
    "a[:]"
   ]
  },
  {
   "cell_type": "code",
   "execution_count": 70,
   "id": "d7b8cfdc-e8fe-4c49-a02d-e58126866af8",
   "metadata": {},
   "outputs": [
    {
     "data": {
      "text/plain": [
       "array([24, 34, 56, 88, 78, 30, 46])"
      ]
     },
     "execution_count": 70,
     "metadata": {},
     "output_type": "execute_result"
    }
   ],
   "source": [
    "a[:-2]"
   ]
  },
  {
   "cell_type": "code",
   "execution_count": 71,
   "id": "88c4fcd4-845e-428f-96e7-5149b7f4e8ad",
   "metadata": {},
   "outputs": [
    {
     "data": {
      "text/plain": [
       "array([[24, 34, 56],\n",
       "       [88, 78, 30],\n",
       "       [46, 23, 44]])"
      ]
     },
     "execution_count": 71,
     "metadata": {},
     "output_type": "execute_result"
    }
   ],
   "source": [
    "b"
   ]
  },
  {
   "cell_type": "code",
   "execution_count": 72,
   "id": "94085c92-d54d-4872-a5cb-4efab249e619",
   "metadata": {},
   "outputs": [
    {
     "data": {
      "text/plain": [
       "array([[24, 34, 56],\n",
       "       [88, 78, 30],\n",
       "       [46, 23, 44]])"
      ]
     },
     "execution_count": 72,
     "metadata": {},
     "output_type": "execute_result"
    }
   ],
   "source": [
    "b[:]"
   ]
  },
  {
   "cell_type": "code",
   "execution_count": 73,
   "id": "47a58a64-d3b7-48cb-bb6c-308768d5624a",
   "metadata": {},
   "outputs": [
    {
     "data": {
      "text/plain": [
       "array([[24, 34, 56]])"
      ]
     },
     "execution_count": 73,
     "metadata": {},
     "output_type": "execute_result"
    }
   ],
   "source": [
    "b[:-2]"
   ]
  },
  {
   "cell_type": "code",
   "execution_count": 74,
   "id": "c8ab1f0a-e0fe-4819-bdc6-fdf56e73876c",
   "metadata": {},
   "outputs": [
    {
     "data": {
      "text/plain": [
       "array([[24, 34, 56],\n",
       "       [88, 78, 30],\n",
       "       [46, 23, 44]])"
      ]
     },
     "execution_count": 74,
     "metadata": {},
     "output_type": "execute_result"
    }
   ],
   "source": [
    "#Filter element between rows and columns\n",
    "#array[rows column]\n",
    "b[:,:]"
   ]
  },
  {
   "cell_type": "code",
   "execution_count": 75,
   "id": "fc06530e-8952-45f0-b187-bfc2d736e2f1",
   "metadata": {},
   "outputs": [
    {
     "data": {
      "text/plain": [
       "array([[78, 30],\n",
       "       [23, 44]])"
      ]
     },
     "execution_count": 75,
     "metadata": {},
     "output_type": "execute_result"
    }
   ],
   "source": [
    "b[1:,1:]"
   ]
  },
  {
   "cell_type": "code",
   "execution_count": 76,
   "id": "3c5d0602-fcb1-4ef5-a3d1-01550087c233",
   "metadata": {},
   "outputs": [
    {
     "data": {
      "text/plain": [
       "array([[44]])"
      ]
     },
     "execution_count": 76,
     "metadata": {},
     "output_type": "execute_result"
    }
   ],
   "source": [
    "b[-1:,-1:]"
   ]
  },
  {
   "cell_type": "code",
   "execution_count": 77,
   "id": "7ac92cf3-1403-4587-aa74-c5f57cfb733f",
   "metadata": {},
   "outputs": [
    {
     "data": {
      "text/plain": [
       "array([[56],\n",
       "       [30]])"
      ]
     },
     "execution_count": 77,
     "metadata": {},
     "output_type": "execute_result"
    }
   ],
   "source": [
    "b[0:2,2:]"
   ]
  },
  {
   "cell_type": "markdown",
   "id": "3325d1ad-1e64-4439-a7f9-1ae1368c0f7f",
   "metadata": {},
   "source": [
    "<h1>Masking</h1>"
   ]
  },
  {
   "cell_type": "code",
   "execution_count": 78,
   "id": "29f9b3c6-7a69-4ef0-a5f5-be2cc1132ce0",
   "metadata": {},
   "outputs": [],
   "source": [
    "array4=np.arange(1,21).reshape(4,5)"
   ]
  },
  {
   "cell_type": "code",
   "execution_count": 79,
   "id": "0fb832ec-9aa7-4d3e-b281-0733d7b4ecaf",
   "metadata": {},
   "outputs": [
    {
     "data": {
      "text/plain": [
       "array([[ 1,  2,  3,  4,  5],\n",
       "       [ 6,  7,  8,  9, 10],\n",
       "       [11, 12, 13, 14, 15],\n",
       "       [16, 17, 18, 19, 20]])"
      ]
     },
     "execution_count": 79,
     "metadata": {},
     "output_type": "execute_result"
    }
   ],
   "source": [
    "array4"
   ]
  },
  {
   "cell_type": "code",
   "execution_count": 80,
   "id": "96b10715-06dd-4b68-b646-78d74baedd47",
   "metadata": {},
   "outputs": [
    {
     "data": {
      "text/plain": [
       "array([ 2,  4,  6,  8, 10, 12, 14, 16, 18, 20])"
      ]
     },
     "execution_count": 80,
     "metadata": {},
     "output_type": "execute_result"
    }
   ],
   "source": [
    "#Filter evens\n",
    "array4[array4%2==0]\n"
   ]
  },
  {
   "cell_type": "code",
   "execution_count": 81,
   "id": "48cc2c4b-0db3-4b44-964b-6948f00ea975",
   "metadata": {},
   "outputs": [
    {
     "data": {
      "text/plain": [
       "array([ 1,  3,  5,  7,  9, 11, 13, 15, 17, 19])"
      ]
     },
     "execution_count": 81,
     "metadata": {},
     "output_type": "execute_result"
    }
   ],
   "source": [
    "#Filter odds\n",
    "array4[array4%2==1]"
   ]
  },
  {
   "cell_type": "code",
   "execution_count": 82,
   "id": "08d3ef83-3ddf-4d09-8dd5-bc6c9ac53e9a",
   "metadata": {},
   "outputs": [
    {
     "data": {
      "text/plain": [
       "array([[ 1,  2,  3,  4,  5],\n",
       "       [ 6,  7,  8,  9, 10],\n",
       "       [11, 12, 13, 14, 15],\n",
       "       [16, 17, 18, 19, 20]])"
      ]
     },
     "execution_count": 82,
     "metadata": {},
     "output_type": "execute_result"
    }
   ],
   "source": [
    "array4"
   ]
  },
  {
   "cell_type": "code",
   "execution_count": 83,
   "id": "8bbc069c-dfc6-47b4-96fe-71b74eeed299",
   "metadata": {},
   "outputs": [
    {
     "data": {
      "text/plain": [
       "array([15, 16, 17, 18, 19, 20])"
      ]
     },
     "execution_count": 83,
     "metadata": {},
     "output_type": "execute_result"
    }
   ],
   "source": [
    "array4[array4>=15]"
   ]
  },
  {
   "cell_type": "code",
   "execution_count": 84,
   "id": "7c5a43a0-bbfc-4e8b-b2ff-b094b70086e2",
   "metadata": {},
   "outputs": [],
   "source": [
    "age=np.arange(12,52).reshape(10,4)"
   ]
  },
  {
   "cell_type": "code",
   "execution_count": 85,
   "id": "8b0cbd56-3992-4c38-a90c-f43484f1dbaf",
   "metadata": {},
   "outputs": [
    {
     "data": {
      "text/plain": [
       "array([[12, 13, 14, 15],\n",
       "       [16, 17, 18, 19],\n",
       "       [20, 21, 22, 23],\n",
       "       [24, 25, 26, 27],\n",
       "       [28, 29, 30, 31],\n",
       "       [32, 33, 34, 35],\n",
       "       [36, 37, 38, 39],\n",
       "       [40, 41, 42, 43],\n",
       "       [44, 45, 46, 47],\n",
       "       [48, 49, 50, 51]])"
      ]
     },
     "execution_count": 85,
     "metadata": {},
     "output_type": "execute_result"
    }
   ],
   "source": [
    "age"
   ]
  },
  {
   "cell_type": "code",
   "execution_count": 86,
   "id": "b016e2dd-b995-45e8-941a-96cf4e8ccc19",
   "metadata": {},
   "outputs": [
    {
     "data": {
      "text/plain": [
       "array([18, 19, 20, 21, 22, 23, 24, 25, 26, 27, 28, 29, 30, 31, 32, 33, 34,\n",
       "       35, 36, 37, 38, 39, 40, 41, 42, 43, 44, 45, 46, 47, 48, 49, 50, 51])"
      ]
     },
     "execution_count": 86,
     "metadata": {},
     "output_type": "execute_result"
    }
   ],
   "source": [
    "#To check eligibilty for vote\n",
    "age[age>=18]"
   ]
  },
  {
   "cell_type": "code",
   "execution_count": 87,
   "id": "218fd2b1-6baf-437b-b5dd-24a935f8d5a0",
   "metadata": {},
   "outputs": [
    {
     "data": {
      "text/plain": [
       "array([31, 32, 33, 34, 35, 36, 37, 38, 39, 40, 41, 42, 43, 44, 45, 46, 47,\n",
       "       48, 49, 50, 51])"
      ]
     },
     "execution_count": 87,
     "metadata": {},
     "output_type": "execute_result"
    }
   ],
   "source": [
    "age[age>30]\n"
   ]
  },
  {
   "cell_type": "code",
   "execution_count": 88,
   "id": "7e637d00-1e41-4f42-bcdd-fac45ab83cbf",
   "metadata": {},
   "outputs": [
    {
     "data": {
      "text/plain": [
       "array([48, 49, 50, 51])"
      ]
     },
     "execution_count": 88,
     "metadata": {},
     "output_type": "execute_result"
    }
   ],
   "source": [
    "age[-1]"
   ]
  },
  {
   "cell_type": "code",
   "execution_count": 89,
   "id": "a47d09ea-a806-4317-a2a9-3da0cba89fc5",
   "metadata": {},
   "outputs": [
    {
     "data": {
      "text/plain": [
       "array([20, 21, 22, 23])"
      ]
     },
     "execution_count": 89,
     "metadata": {},
     "output_type": "execute_result"
    }
   ],
   "source": [
    "age[+2]"
   ]
  },
  {
   "cell_type": "code",
   "execution_count": 90,
   "id": "ebeda1f0-e768-4765-bf41-ea12285332e0",
   "metadata": {},
   "outputs": [
    {
     "data": {
      "text/plain": [
       "array([48, 49])"
      ]
     },
     "execution_count": 90,
     "metadata": {},
     "output_type": "execute_result"
    }
   ],
   "source": [
    "age[-1][age[-1]<50]"
   ]
  },
  {
   "cell_type": "code",
   "execution_count": 91,
   "id": "d03809d6-00e7-4963-ba88-d28f0d20e302",
   "metadata": {},
   "outputs": [
    {
     "data": {
      "text/plain": [
       "array([], dtype=int32)"
      ]
     },
     "execution_count": 91,
     "metadata": {},
     "output_type": "execute_result"
    }
   ],
   "source": [
    "age[-1][0][age[-1][0]==48]\n",
    "age[-1][0][age[-1][0]!=48]"
   ]
  },
  {
   "cell_type": "code",
   "execution_count": 92,
   "id": "98b3caca-19da-4180-b669-1129507f5e6d",
   "metadata": {},
   "outputs": [],
   "source": [
    "#Reshape\n",
    "a1= np.arange(32)"
   ]
  },
  {
   "cell_type": "code",
   "execution_count": 93,
   "id": "7d865e46-1376-40e2-b6af-d3ed405a9700",
   "metadata": {},
   "outputs": [
    {
     "data": {
      "text/plain": [
       "array([ 0,  1,  2,  3,  4,  5,  6,  7,  8,  9, 10, 11, 12, 13, 14, 15, 16,\n",
       "       17, 18, 19, 20, 21, 22, 23, 24, 25, 26, 27, 28, 29, 30, 31])"
      ]
     },
     "execution_count": 93,
     "metadata": {},
     "output_type": "execute_result"
    }
   ],
   "source": [
    "a1"
   ]
  },
  {
   "cell_type": "code",
   "execution_count": 94,
   "id": "e949f861-fae3-4a1b-8da3-ff533034659c",
   "metadata": {},
   "outputs": [
    {
     "data": {
      "text/plain": [
       "(32,)"
      ]
     },
     "execution_count": 94,
     "metadata": {},
     "output_type": "execute_result"
    }
   ],
   "source": [
    "a1.shape"
   ]
  },
  {
   "cell_type": "code",
   "execution_count": 95,
   "id": "980e9a29-2bd8-4113-977a-0d73a5a91440",
   "metadata": {},
   "outputs": [],
   "source": [
    "a2=a1.reshape(1,-1)"
   ]
  },
  {
   "cell_type": "code",
   "execution_count": 96,
   "id": "3b8ad1b2-03d6-40f0-914d-e26e04dcc907",
   "metadata": {},
   "outputs": [
    {
     "data": {
      "text/plain": [
       "array([[ 0,  1,  2,  3,  4,  5,  6,  7,  8,  9, 10, 11, 12, 13, 14, 15,\n",
       "        16, 17, 18, 19, 20, 21, 22, 23, 24, 25, 26, 27, 28, 29, 30, 31]])"
      ]
     },
     "execution_count": 96,
     "metadata": {},
     "output_type": "execute_result"
    }
   ],
   "source": [
    "a2"
   ]
  },
  {
   "cell_type": "code",
   "execution_count": 97,
   "id": "3888f4fb-d761-4eb1-9818-0b4eeb65d56d",
   "metadata": {},
   "outputs": [
    {
     "data": {
      "text/plain": [
       "(1, 32)"
      ]
     },
     "execution_count": 97,
     "metadata": {},
     "output_type": "execute_result"
    }
   ],
   "source": [
    "a2.shape"
   ]
  },
  {
   "cell_type": "code",
   "execution_count": 98,
   "id": "31d2d23b-cad7-417c-a886-80ca36a4e6b1",
   "metadata": {},
   "outputs": [
    {
     "data": {
      "text/plain": [
       "array([[ 0,  1,  2,  3,  4,  5,  6,  7],\n",
       "       [ 8,  9, 10, 11, 12, 13, 14, 15],\n",
       "       [16, 17, 18, 19, 20, 21, 22, 23],\n",
       "       [24, 25, 26, 27, 28, 29, 30, 31]])"
      ]
     },
     "execution_count": 98,
     "metadata": {},
     "output_type": "execute_result"
    }
   ],
   "source": [
    "a2.reshape(4,-1)"
   ]
  },
  {
   "cell_type": "markdown",
   "id": "adf3063d-bdcb-4ff5-a951-e25f3c175a40",
   "metadata": {},
   "source": [
    "<h1>Aggregate function</h1>\n",
    "max, min, sum, mean, std etc........"
   ]
  },
  {
   "cell_type": "code",
   "execution_count": 99,
   "id": "2ce147ad-2dd7-48ab-a5bb-894e7ca55d37",
   "metadata": {},
   "outputs": [],
   "source": [
    "a=np.arange(10).reshape(2,-1)"
   ]
  },
  {
   "cell_type": "code",
   "execution_count": 100,
   "id": "f2adf937-01dd-442e-8983-98b7c3cd34d5",
   "metadata": {},
   "outputs": [
    {
     "data": {
      "text/plain": [
       "array([[0, 1, 2, 3, 4],\n",
       "       [5, 6, 7, 8, 9]])"
      ]
     },
     "execution_count": 100,
     "metadata": {},
     "output_type": "execute_result"
    }
   ],
   "source": [
    "a"
   ]
  },
  {
   "cell_type": "code",
   "execution_count": 101,
   "id": "272d680e-329d-451d-a11b-4afcea374cc6",
   "metadata": {},
   "outputs": [
    {
     "data": {
      "text/plain": [
       "45"
      ]
     },
     "execution_count": 101,
     "metadata": {},
     "output_type": "execute_result"
    }
   ],
   "source": [
    "#Find the all element of sum\n",
    "a.sum()"
   ]
  },
  {
   "cell_type": "code",
   "execution_count": 102,
   "id": "47fac9e7-7f3a-43bc-b374-37df4d406722",
   "metadata": {},
   "outputs": [
    {
     "data": {
      "text/plain": [
       "0"
      ]
     },
     "execution_count": 102,
     "metadata": {},
     "output_type": "execute_result"
    }
   ],
   "source": [
    "#Smallest element of array\n",
    "a.min()"
   ]
  },
  {
   "cell_type": "code",
   "execution_count": 103,
   "id": "831fc5ff-1e22-4731-b8a0-ad412da2be03",
   "metadata": {},
   "outputs": [
    {
     "data": {
      "text/plain": [
       "9"
      ]
     },
     "execution_count": 103,
     "metadata": {},
     "output_type": "execute_result"
    }
   ],
   "source": [
    "#Greatest element of array\n",
    "a.max()"
   ]
  },
  {
   "cell_type": "code",
   "execution_count": 104,
   "id": "f1a34d4a-8874-4214-8cc0-00246c2d690a",
   "metadata": {},
   "outputs": [
    {
     "data": {
      "text/plain": [
       "4.5"
      ]
     },
     "execution_count": 104,
     "metadata": {},
     "output_type": "execute_result"
    }
   ],
   "source": [
    "#Calculate the average of all nos.\n",
    "a.mean()"
   ]
  },
  {
   "cell_type": "code",
   "execution_count": 105,
   "id": "5ccc3599-db55-435f-889c-e90a8bcbbdfa",
   "metadata": {},
   "outputs": [
    {
     "data": {
      "text/plain": [
       "2.8722813232690143"
      ]
     },
     "execution_count": 105,
     "metadata": {},
     "output_type": "execute_result"
    }
   ],
   "source": [
    "#Calculate the standard of all deviation\n",
    "a.std()\n"
   ]
  },
  {
   "cell_type": "code",
   "execution_count": 106,
   "id": "8aebe657-fe01-4183-b591-aa89d3279c9e",
   "metadata": {},
   "outputs": [
    {
     "data": {
      "text/plain": [
       "45"
      ]
     },
     "execution_count": 106,
     "metadata": {},
     "output_type": "execute_result"
    }
   ],
   "source": [
    "np.sum(a)"
   ]
  },
  {
   "cell_type": "code",
   "execution_count": 107,
   "id": "2d9e33f1-8ccc-44f3-b946-9022902c4fa8",
   "metadata": {},
   "outputs": [
    {
     "data": {
      "text/plain": [
       "9"
      ]
     },
     "execution_count": 107,
     "metadata": {},
     "output_type": "execute_result"
    }
   ],
   "source": [
    "np.max(a)"
   ]
  },
  {
   "cell_type": "code",
   "execution_count": 108,
   "id": "f6897ebc-755e-43f9-bcc3-dc1d65843cdb",
   "metadata": {},
   "outputs": [
    {
     "data": {
      "text/plain": [
       "0"
      ]
     },
     "execution_count": 108,
     "metadata": {},
     "output_type": "execute_result"
    }
   ],
   "source": [
    "np.min(a)"
   ]
  },
  {
   "cell_type": "code",
   "execution_count": 109,
   "id": "4c3de623-3c72-4742-8ec7-cce06f8e6cc4",
   "metadata": {},
   "outputs": [
    {
     "data": {
      "text/plain": [
       "4.5"
      ]
     },
     "execution_count": 109,
     "metadata": {},
     "output_type": "execute_result"
    }
   ],
   "source": [
    "np.mean(a)"
   ]
  },
  {
   "cell_type": "code",
   "execution_count": 110,
   "id": "ce36f656-59f6-43c2-bbd4-145d5c13f3f4",
   "metadata": {},
   "outputs": [
    {
     "data": {
      "text/plain": [
       "2.8722813232690143"
      ]
     },
     "execution_count": 110,
     "metadata": {},
     "output_type": "execute_result"
    }
   ],
   "source": [
    "np.std(a)"
   ]
  },
  {
   "cell_type": "markdown",
   "id": "bbe6d9f1-a3db-4984-9451-6032aa8d9991",
   "metadata": {},
   "source": [
    "<h1>np.where - used to return the indices of all non-zero element</h1>"
   ]
  },
  {
   "cell_type": "code",
   "execution_count": 111,
   "id": "4504fc9d-2865-4187-819f-e4510a69c060",
   "metadata": {},
   "outputs": [],
   "source": [
    "arr=np.array([1,0,9,-3,5,6,0,0,3,-4,0,4,8,7])"
   ]
  },
  {
   "cell_type": "code",
   "execution_count": 112,
   "id": "4d55caa5-bec6-4b4c-a42e-c91d05b94541",
   "metadata": {},
   "outputs": [
    {
     "data": {
      "text/plain": [
       "(array([ 0,  2,  3,  4,  5,  8,  9, 11, 12, 13], dtype=int64),)"
      ]
     },
     "execution_count": 112,
     "metadata": {},
     "output_type": "execute_result"
    }
   ],
   "source": [
    "np.where(arr)"
   ]
  },
  {
   "cell_type": "code",
   "execution_count": 113,
   "id": "0ccc5e25-25fd-492c-bcf0-00b7f809c5bd",
   "metadata": {},
   "outputs": [
    {
     "data": {
      "text/plain": [
       "array([ 1,  0,  9, -3,  5,  6,  0,  0,  3, -4,  0,  4,  8,  7])"
      ]
     },
     "execution_count": 113,
     "metadata": {},
     "output_type": "execute_result"
    }
   ],
   "source": [
    "#it can also be used to return the elements based on a specific condition\n",
    "arr"
   ]
  },
  {
   "cell_type": "code",
   "execution_count": 114,
   "id": "4142eb9a-4583-4b75-bd9a-5a8e45a0fb2a",
   "metadata": {},
   "outputs": [
    {
     "data": {
      "text/plain": [
       "array(['+ve', '+ve', '+ve', '-ve', '+ve', '+ve', '+ve', '+ve', '+ve',\n",
       "       '-ve', '+ve', '+ve', '+ve', '+ve'], dtype='<U3')"
      ]
     },
     "execution_count": 114,
     "metadata": {},
     "output_type": "execute_result"
    }
   ],
   "source": [
    "np.where(arr<0, '-ve','+ve')"
   ]
  },
  {
   "cell_type": "markdown",
   "id": "621f8eb6-0718-4557-a531-1ac96c427163",
   "metadata": {},
   "source": [
    "<h2>np.any-return true if any one element inside an array meets the desired condition</h2>"
   ]
  },
  {
   "cell_type": "code",
   "execution_count": 115,
   "id": "5a7e1301-8e36-4dd8-bc26-8357de7c573c",
   "metadata": {},
   "outputs": [
    {
     "data": {
      "text/plain": [
       "False"
      ]
     },
     "execution_count": 115,
     "metadata": {},
     "output_type": "execute_result"
    }
   ],
   "source": [
    "np.any(arr>10)"
   ]
  },
  {
   "cell_type": "code",
   "execution_count": 116,
   "id": "6ef549df-5ecd-4659-9512-91248481998e",
   "metadata": {},
   "outputs": [
    {
     "data": {
      "text/plain": [
       "True"
      ]
     },
     "execution_count": 116,
     "metadata": {},
     "output_type": "execute_result"
    }
   ],
   "source": [
    "np.any(arr%2==0)"
   ]
  },
  {
   "cell_type": "code",
   "execution_count": 117,
   "id": "5d2231f1-5043-4ad3-ac16-f0b3b22f9e04",
   "metadata": {},
   "outputs": [
    {
     "data": {
      "text/plain": [
       "True"
      ]
     },
     "execution_count": 117,
     "metadata": {},
     "output_type": "execute_result"
    }
   ],
   "source": [
    "np.any(arr<0)"
   ]
  },
  {
   "cell_type": "markdown",
   "id": "b96889b3-54d2-48b3-b1f8-47db4dcde5e1",
   "metadata": {},
   "source": [
    "<h2>np.all-return true if all the element inside an array meets the desired condtion</h2>"
   ]
  },
  {
   "cell_type": "code",
   "execution_count": 118,
   "id": "07c65ab3-aab2-4d94-9ba8-4c07a9db4dc4",
   "metadata": {},
   "outputs": [
    {
     "data": {
      "text/plain": [
       "True"
      ]
     },
     "execution_count": 118,
     "metadata": {},
     "output_type": "execute_result"
    }
   ],
   "source": [
    "np .all(arr<10)"
   ]
  },
  {
   "cell_type": "code",
   "execution_count": 119,
   "id": "6a3cc7aa-fe09-4a20-81d1-ca25e483154c",
   "metadata": {},
   "outputs": [
    {
     "data": {
      "text/plain": [
       "False"
      ]
     },
     "execution_count": 119,
     "metadata": {},
     "output_type": "execute_result"
    }
   ],
   "source": [
    "np.all(arr%2==0)\n"
   ]
  },
  {
   "cell_type": "code",
   "execution_count": 120,
   "id": "d4aad626-0275-44e9-bf54-4995468125e4",
   "metadata": {},
   "outputs": [
    {
     "data": {
      "text/plain": [
       "False"
      ]
     },
     "execution_count": 120,
     "metadata": {},
     "output_type": "execute_result"
    }
   ],
   "source": [
    "np.all(arr<0)\n"
   ]
  },
  {
   "cell_type": "code",
   "execution_count": 121,
   "id": "6c72898d-ae91-42e2-80cb-327985c3af42",
   "metadata": {},
   "outputs": [
    {
     "data": {
      "text/plain": [
       "False"
      ]
     },
     "execution_count": 121,
     "metadata": {},
     "output_type": "execute_result"
    }
   ],
   "source": [
    "np.all(arr<5)"
   ]
  },
  {
   "cell_type": "markdown",
   "id": "8d4bf084-df1e-4137-8d6d-93429efc9df1",
   "metadata": {},
   "source": [
    "<h2>np.sort()-used to sort an array</h2>"
   ]
  },
  {
   "cell_type": "code",
   "execution_count": 122,
   "id": "6cbcd6a4-67aa-4999-8e22-1012362ad666",
   "metadata": {},
   "outputs": [],
   "source": [
    "a=np.array([4, 7, 0, 3, 8, 2, 9, 1, 6, 5])"
   ]
  },
  {
   "cell_type": "code",
   "execution_count": 123,
   "id": "0e1d8f11-5420-442e-a8bc-9254a0e57ba9",
   "metadata": {},
   "outputs": [
    {
     "data": {
      "text/plain": [
       "array([4, 7, 0, 3, 8, 2, 9, 1, 6, 5])"
      ]
     },
     "execution_count": 123,
     "metadata": {},
     "output_type": "execute_result"
    }
   ],
   "source": [
    "a"
   ]
  },
  {
   "cell_type": "code",
   "execution_count": 124,
   "id": "0b3544dc-1709-4fb5-8cbb-39aefd88c948",
   "metadata": {},
   "outputs": [
    {
     "data": {
      "text/plain": [
       "array([0, 1, 2, 3, 4, 5, 6, 7, 8, 9])"
      ]
     },
     "execution_count": 124,
     "metadata": {},
     "output_type": "execute_result"
    }
   ],
   "source": [
    "np.sort(a)  #it does not make a permanent change"
   ]
  },
  {
   "cell_type": "code",
   "execution_count": 125,
   "id": "de47012f-09c7-4182-8fbd-5fd6216c14e4",
   "metadata": {},
   "outputs": [
    {
     "data": {
      "text/plain": [
       "array([4, 7, 0, 3, 8, 2, 9, 1, 6, 5])"
      ]
     },
     "execution_count": 125,
     "metadata": {},
     "output_type": "execute_result"
    }
   ],
   "source": [
    "a"
   ]
  },
  {
   "cell_type": "code",
   "execution_count": 126,
   "id": "9fe4613a-f262-4a63-a9b4-cd1c2f55f7bb",
   "metadata": {},
   "outputs": [],
   "source": [
    "# this will make a permanent change like lists in python\n",
    "a.sort()"
   ]
  },
  {
   "cell_type": "code",
   "execution_count": 127,
   "id": "311617b5-357d-4dab-a187-b2e6f75e6048",
   "metadata": {},
   "outputs": [
    {
     "data": {
      "text/plain": [
       "array([0, 1, 2, 3, 4, 5, 6, 7, 8, 9])"
      ]
     },
     "execution_count": 127,
     "metadata": {},
     "output_type": "execute_result"
    }
   ],
   "source": [
    "a"
   ]
  },
  {
   "cell_type": "markdown",
   "id": "af0bf333-88ae-40ca-aaed-da5ff670b5c0",
   "metadata": {},
   "source": [
    "<h2>Argsort(), Argmax(), Argmin()</h2>"
   ]
  },
  {
   "cell_type": "code",
   "execution_count": 128,
   "id": "ea2dd509-301d-4942-a753-4d7cc1e8dba0",
   "metadata": {},
   "outputs": [],
   "source": [
    "a=np.array([4, 7, 0, 3, 8, 2, 9, 1, 6, 5])"
   ]
  },
  {
   "cell_type": "code",
   "execution_count": 129,
   "id": "335b4668-e5ad-444e-a33c-9af5d4022f4c",
   "metadata": {},
   "outputs": [
    {
     "data": {
      "text/plain": [
       "array([4, 7, 0, 3, 8, 2, 9, 1, 6, 5])"
      ]
     },
     "execution_count": 129,
     "metadata": {},
     "output_type": "execute_result"
    }
   ],
   "source": [
    "a"
   ]
  },
  {
   "cell_type": "code",
   "execution_count": 130,
   "id": "c89a852b-5c89-4992-aa56-baa221f2e752",
   "metadata": {},
   "outputs": [
    {
     "data": {
      "text/plain": [
       "array([2, 7, 5, 3, 0, 9, 8, 1, 4, 6], dtype=int64)"
      ]
     },
     "execution_count": 130,
     "metadata": {},
     "output_type": "execute_result"
    }
   ],
   "source": [
    "np.argsort(a)"
   ]
  },
  {
   "cell_type": "code",
   "execution_count": 131,
   "id": "5d2f695c-ac45-449b-a48b-1ee8c7571ae7",
   "metadata": {},
   "outputs": [
    {
     "data": {
      "text/plain": [
       "array([2, 7, 5, 3, 0, 9, 8, 1, 4, 6], dtype=int64)"
      ]
     },
     "execution_count": 131,
     "metadata": {},
     "output_type": "execute_result"
    }
   ],
   "source": [
    "a.argsort()"
   ]
  },
  {
   "cell_type": "code",
   "execution_count": 132,
   "id": "f5bb1e38-afcf-430d-86d1-af944922d105",
   "metadata": {},
   "outputs": [],
   "source": [
    "# sort a 2D array\n",
    "array2=np.array([[1,2,3],[2,0,2]])"
   ]
  },
  {
   "cell_type": "code",
   "execution_count": 133,
   "id": "1aa2a442-0962-40ce-af55-18cea6514af3",
   "metadata": {},
   "outputs": [
    {
     "data": {
      "text/plain": [
       "array([[1, 2, 3],\n",
       "       [2, 0, 2]])"
      ]
     },
     "execution_count": 133,
     "metadata": {},
     "output_type": "execute_result"
    }
   ],
   "source": [
    "array2"
   ]
  },
  {
   "cell_type": "code",
   "execution_count": 134,
   "id": "7e3b2d9e-6bc5-48e4-b342-ddad358510f7",
   "metadata": {},
   "outputs": [
    {
     "data": {
      "text/plain": [
       "array([[1, 2, 3],\n",
       "       [0, 2, 2]])"
      ]
     },
     "execution_count": 134,
     "metadata": {},
     "output_type": "execute_result"
    }
   ],
   "source": [
    "np.sort(array2)  #2D array sorts each row by default"
   ]
  },
  {
   "cell_type": "code",
   "execution_count": 135,
   "id": "b612deaf-b7cb-49df-bca1-195be471f7af",
   "metadata": {},
   "outputs": [
    {
     "data": {
      "text/plain": [
       "array([[1, 2, 3],\n",
       "       [2, 0, 2]])"
      ]
     },
     "execution_count": 135,
     "metadata": {},
     "output_type": "execute_result"
    }
   ],
   "source": [
    "array2"
   ]
  },
  {
   "cell_type": "code",
   "execution_count": 136,
   "id": "e1816150-2c36-4c27-ad62-a912a890c0e6",
   "metadata": {},
   "outputs": [
    {
     "data": {
      "text/plain": [
       "array([[1, 0, 2],\n",
       "       [2, 2, 3]])"
      ]
     },
     "execution_count": 136,
     "metadata": {},
     "output_type": "execute_result"
    }
   ],
   "source": [
    "#sort a 2D array column wise\n",
    "np.sort(array2,axis=0)\n"
   ]
  },
  {
   "cell_type": "code",
   "execution_count": 137,
   "id": "e06f6cb0-bcd6-44f1-abb4-9c39972b0f99",
   "metadata": {},
   "outputs": [],
   "source": [
    "# in numpy\n",
    "# axis = 0 means columns\n",
    "# axis = 1 means rows\n",
    "\n",
    "# in pandas\n",
    "# axis = 1 columns\n",
    "# axis = 0 rows\n",
    "\n"
   ]
  },
  {
   "cell_type": "code",
   "execution_count": 138,
   "id": "15338e70-09a5-45dc-be20-9ced63ca9601",
   "metadata": {},
   "outputs": [
    {
     "data": {
      "text/plain": [
       "6"
      ]
     },
     "execution_count": 138,
     "metadata": {},
     "output_type": "execute_result"
    }
   ],
   "source": [
    "# argmax() - returns the index of maximum element\n",
    "np.argmax(a)"
   ]
  },
  {
   "cell_type": "code",
   "execution_count": 139,
   "id": "c90646ae-4c69-4523-bd31-dc1a3476a36a",
   "metadata": {},
   "outputs": [
    {
     "data": {
      "text/plain": [
       "6"
      ]
     },
     "execution_count": 139,
     "metadata": {},
     "output_type": "execute_result"
    }
   ],
   "source": [
    "a.argmax()"
   ]
  },
  {
   "cell_type": "code",
   "execution_count": 140,
   "id": "90af8d39-aaae-42c7-a769-e76b9e3c5eef",
   "metadata": {},
   "outputs": [
    {
     "data": {
      "text/plain": [
       "2"
      ]
     },
     "execution_count": 140,
     "metadata": {},
     "output_type": "execute_result"
    }
   ],
   "source": [
    "# argmin() - returns the index of manimum element\n",
    "np.argmin(a)\n"
   ]
  },
  {
   "cell_type": "code",
   "execution_count": 141,
   "id": "37c4e6f6-e21b-42e5-946f-001682538380",
   "metadata": {},
   "outputs": [
    {
     "data": {
      "text/plain": [
       "2"
      ]
     },
     "execution_count": 141,
     "metadata": {},
     "output_type": "execute_result"
    }
   ],
   "source": [
    "a.argmin()"
   ]
  },
  {
   "cell_type": "markdown",
   "id": "d2353376-3c6b-4524-89e5-d37a865148fc",
   "metadata": {},
   "source": [
    "<h2>Matrix Multiplication</h2>"
   ]
  },
  {
   "cell_type": "code",
   "execution_count": 142,
   "id": "37a0c9e9-5d56-4865-ab1b-6f92786b7e14",
   "metadata": {},
   "outputs": [],
   "source": [
    "a=np.array([[34,45,22],[67,99,90]])"
   ]
  },
  {
   "cell_type": "code",
   "execution_count": 143,
   "id": "a339ed73-9996-49cf-8c95-b15ba9c86405",
   "metadata": {},
   "outputs": [
    {
     "data": {
      "text/plain": [
       "array([[34, 45, 22],\n",
       "       [67, 99, 90]])"
      ]
     },
     "execution_count": 143,
     "metadata": {},
     "output_type": "execute_result"
    }
   ],
   "source": [
    "a"
   ]
  },
  {
   "cell_type": "code",
   "execution_count": 144,
   "id": "b3252a43-fab1-4d46-ad86-2be826dd3a9b",
   "metadata": {},
   "outputs": [],
   "source": [
    "b=np.array([[1,2,3],[4,5,6],[23,34,22]])\n"
   ]
  },
  {
   "cell_type": "code",
   "execution_count": 145,
   "id": "172b0323-15e4-4280-85df-5ff3659c1866",
   "metadata": {},
   "outputs": [
    {
     "data": {
      "text/plain": [
       "array([[ 1,  2,  3],\n",
       "       [ 4,  5,  6],\n",
       "       [23, 34, 22]])"
      ]
     },
     "execution_count": 145,
     "metadata": {},
     "output_type": "execute_result"
    }
   ],
   "source": [
    "b"
   ]
  },
  {
   "cell_type": "code",
   "execution_count": 146,
   "id": "c3ffc272-7006-41fe-b79d-28eba7a560cf",
   "metadata": {},
   "outputs": [
    {
     "data": {
      "text/plain": [
       "((2, 3), (3, 3))"
      ]
     },
     "execution_count": 146,
     "metadata": {},
     "output_type": "execute_result"
    }
   ],
   "source": [
    "a.shape, b.shape"
   ]
  },
  {
   "cell_type": "code",
   "execution_count": 147,
   "id": "6d1b701f-fd84-4fdb-9e60-278ac9f526ec",
   "metadata": {},
   "outputs": [
    {
     "data": {
      "text/plain": [
       "array([[ 720, 1041,  856],\n",
       "       [2533, 3689, 2775]])"
      ]
     },
     "execution_count": 147,
     "metadata": {},
     "output_type": "execute_result"
    }
   ],
   "source": [
    "np.matmul(a,b)\n"
   ]
  },
  {
   "cell_type": "code",
   "execution_count": 148,
   "id": "137ae4a7-95ae-4804-b1fa-a74f824dba9d",
   "metadata": {},
   "outputs": [
    {
     "data": {
      "text/plain": [
       "array([[ 720, 1041,  856],\n",
       "       [2533, 3689, 2775]])"
      ]
     },
     "execution_count": 148,
     "metadata": {},
     "output_type": "execute_result"
    }
   ],
   "source": [
    "np.dot(a,b)"
   ]
  },
  {
   "cell_type": "code",
   "execution_count": 149,
   "id": "804d0972-c2f8-4c68-a930-cc9ae854cfa6",
   "metadata": {},
   "outputs": [
    {
     "data": {
      "text/plain": [
       "array([[ 720, 1041,  856],\n",
       "       [2533, 3689, 2775]])"
      ]
     },
     "execution_count": 149,
     "metadata": {},
     "output_type": "execute_result"
    }
   ],
   "source": [
    "a.dot(b)"
   ]
  },
  {
   "cell_type": "markdown",
   "id": "91c0c596-a91e-4dba-9a15-8a4b4322f62b",
   "metadata": {},
   "source": [
    "<h1>Vectorize</h1>"
   ]
  },
  {
   "cell_type": "code",
   "execution_count": 150,
   "id": "0d2221cf-9d10-4d1c-b37e-a69c3c8b6e4b",
   "metadata": {},
   "outputs": [
    {
     "data": {
      "text/plain": [
       "array([ 23,  22,  34,  45, 556])"
      ]
     },
     "execution_count": 150,
     "metadata": {},
     "output_type": "execute_result"
    }
   ],
   "source": [
    "arr=np.array([23,22,34,45,556])\n",
    "arr"
   ]
  },
  {
   "cell_type": "code",
   "execution_count": 151,
   "id": "953f6941-723f-4d0f-a648-482eaa10f89b",
   "metadata": {},
   "outputs": [],
   "source": [
    "def myfunc(a):\n",
    "    if a%2==0:\n",
    "        return 'even'\n",
    "        \n",
    "    else:\n",
    "        return 'odd'"
   ]
  },
  {
   "cell_type": "code",
   "execution_count": 153,
   "id": "055c2232-0933-4a9f-96bc-a6c3935c5752",
   "metadata": {},
   "outputs": [],
   "source": [
    "Even_odd=np.vectorize(myfunc)"
   ]
  },
  {
   "cell_type": "code",
   "execution_count": 156,
   "id": "716e9efc-130a-44b8-aeb6-7106deabfc0a",
   "metadata": {},
   "outputs": [
    {
     "data": {
      "text/plain": [
       "array(['odd', 'even', 'even', 'odd', 'even'], dtype='<U4')"
      ]
     },
     "execution_count": 156,
     "metadata": {},
     "output_type": "execute_result"
    }
   ],
   "source": [
    "Even_odd(arr)"
   ]
  },
  {
   "cell_type": "code",
   "execution_count": 158,
   "id": "90a4246c-9e16-4e43-b285-84b2d2adeaa9",
   "metadata": {},
   "outputs": [],
   "source": [
    "from math import *\n",
    "power=np.vectorize(pow)"
   ]
  },
  {
   "cell_type": "code",
   "execution_count": 159,
   "id": "32599677-add1-4632-95c4-dc706bae9a7a",
   "metadata": {},
   "outputs": [
    {
     "data": {
      "text/plain": [
       "array([   529.,    484.,   1156.,   2025., 309136.])"
      ]
     },
     "execution_count": 159,
     "metadata": {},
     "output_type": "execute_result"
    }
   ],
   "source": [
    "power(arr,2)"
   ]
  },
  {
   "cell_type": "code",
   "execution_count": 160,
   "id": "426444ba-c090-4e4e-bdd0-992d66bdc6ac",
   "metadata": {},
   "outputs": [
    {
     "data": {
      "text/plain": [
       "array([3.09105864e+39, 8.51643319e+38, 2.58754907e+44, 8.77329837e+47,\n",
       "       4.04733317e+79])"
      ]
     },
     "execution_count": 160,
     "metadata": {},
     "output_type": "execute_result"
    }
   ],
   "source": [
    "power(arr,29)"
   ]
  },
  {
   "cell_type": "markdown",
   "id": "29e0e2e4-80c3-4da3-8fcf-acd58a2fe518",
   "metadata": {},
   "source": [
    "<h2>Tile function-repeat multiple row and column</h2>\n",
    "np.tile(no. of times row need to repeat and no. of times column need to repeat)"
   ]
  },
  {
   "cell_type": "code",
   "execution_count": 174,
   "id": "d4472230-8568-42c9-a898-ab5e3a2d8412",
   "metadata": {},
   "outputs": [],
   "source": [
    "arr = np.arange(10,40,10)"
   ]
  },
  {
   "cell_type": "raw",
   "id": "568752f3-c555-456a-8eb4-b3f038b169cb",
   "metadata": {},
   "source": [
    "arr"
   ]
  },
  {
   "cell_type": "code",
   "execution_count": 175,
   "id": "42a9dab3-a815-45aa-9039-dcedfaf771a2",
   "metadata": {},
   "outputs": [
    {
     "data": {
      "text/plain": [
       "array([[10, 20, 30],\n",
       "       [10, 20, 30],\n",
       "       [10, 20, 30],\n",
       "       [10, 20, 30]])"
      ]
     },
     "execution_count": 175,
     "metadata": {},
     "output_type": "execute_result"
    }
   ],
   "source": [
    "np.tile(arr,(4,1))"
   ]
  },
  {
   "cell_type": "code",
   "execution_count": 176,
   "id": "af992b81-a275-493b-8390-8ad708077bf4",
   "metadata": {},
   "outputs": [
    {
     "data": {
      "text/plain": [
       "array([[10, 20, 30, 10, 20, 30, 10, 20, 30],\n",
       "       [10, 20, 30, 10, 20, 30, 10, 20, 30],\n",
       "       [10, 20, 30, 10, 20, 30, 10, 20, 30],\n",
       "       [10, 20, 30, 10, 20, 30, 10, 20, 30],\n",
       "       [10, 20, 30, 10, 20, 30, 10, 20, 30]])"
      ]
     },
     "execution_count": 176,
     "metadata": {},
     "output_type": "execute_result"
    }
   ],
   "source": [
    "np.tile(arr,(5,3))"
   ]
  },
  {
   "cell_type": "markdown",
   "id": "0780a150-b56c-4fb2-b019-287fbb909155",
   "metadata": {},
   "source": [
    "<h1> Broadcasting</h1>"
   ]
  },
  {
   "cell_type": "code",
   "execution_count": 191,
   "id": "10b4f72b-4cc1-43f7-9cc6-a400b99b77e0",
   "metadata": {},
   "outputs": [],
   "source": [
    "a=np.arange(1,13).reshape(-1,3)"
   ]
  },
  {
   "cell_type": "code",
   "execution_count": 192,
   "id": "65539e39-a70d-48a9-a848-edb1c62a9f93",
   "metadata": {},
   "outputs": [
    {
     "data": {
      "text/plain": [
       "array([[ 1,  2,  3],\n",
       "       [ 4,  5,  6],\n",
       "       [ 7,  8,  9],\n",
       "       [10, 11, 12]])"
      ]
     },
     "execution_count": 192,
     "metadata": {},
     "output_type": "execute_result"
    }
   ],
   "source": [
    "a"
   ]
  },
  {
   "cell_type": "code",
   "execution_count": 193,
   "id": "c78fa41b-0013-45e4-8bcb-3798b33895a5",
   "metadata": {},
   "outputs": [],
   "source": [
    "b=np.array((5,2,3))"
   ]
  },
  {
   "cell_type": "code",
   "execution_count": 194,
   "id": "d0b3a665-df26-44c4-8019-8d67f1a66120",
   "metadata": {},
   "outputs": [
    {
     "data": {
      "text/plain": [
       "array([5, 2, 3])"
      ]
     },
     "execution_count": 194,
     "metadata": {},
     "output_type": "execute_result"
    }
   ],
   "source": [
    "b"
   ]
  },
  {
   "cell_type": "code",
   "execution_count": 196,
   "id": "6549feb8-acf9-4f75-959f-355caba58769",
   "metadata": {},
   "outputs": [
    {
     "data": {
      "text/plain": [
       "array([[ 6,  4,  6],\n",
       "       [ 9,  7,  9],\n",
       "       [12, 10, 12],\n",
       "       [15, 13, 15]])"
      ]
     },
     "execution_count": 196,
     "metadata": {},
     "output_type": "execute_result"
    }
   ],
   "source": [
    "a+b     #Here b array is broadcasting automatically"
   ]
  },
  {
   "cell_type": "code",
   "execution_count": null,
   "id": "42e01584-f3ef-4796-8274-1ad022354302",
   "metadata": {},
   "outputs": [],
   "source": [
    "# np.tile() function do broadcasting as it repeats rows or columns many times"
   ]
  },
  {
   "cell_type": "markdown",
   "id": "277ed413-c70e-43be-9b30-f79bd331879d",
   "metadata": {},
   "source": [
    "<h1>Splitting</h1>"
   ]
  },
  {
   "cell_type": "code",
   "execution_count": 204,
   "id": "1cf43457-d7fd-4b17-a479-1af419e310ed",
   "metadata": {},
   "outputs": [],
   "source": [
    "a=np.arange(9)\n"
   ]
  },
  {
   "cell_type": "code",
   "execution_count": 205,
   "id": "f92b05f3-ad8c-44ff-a310-8a07dd040bda",
   "metadata": {},
   "outputs": [
    {
     "data": {
      "text/plain": [
       "array([0, 1, 2, 3, 4, 5, 6, 7, 8])"
      ]
     },
     "execution_count": 205,
     "metadata": {},
     "output_type": "execute_result"
    }
   ],
   "source": [
    "a"
   ]
  },
  {
   "cell_type": "code",
   "execution_count": 206,
   "id": "9873a97a-1c03-4fcd-89ff-5aee0a17c558",
   "metadata": {},
   "outputs": [
    {
     "data": {
      "text/plain": [
       "9"
      ]
     },
     "execution_count": 206,
     "metadata": {},
     "output_type": "execute_result"
    }
   ],
   "source": [
    "a.size"
   ]
  },
  {
   "cell_type": "code",
   "execution_count": 210,
   "id": "7b2c816e-16df-42ac-b4db-d5f83e14d8ff",
   "metadata": {},
   "outputs": [
    {
     "data": {
      "text/plain": [
       "[array([0, 1, 2]), array([3, 4, 5]), array([6, 7, 8])]"
      ]
     },
     "execution_count": 210,
     "metadata": {},
     "output_type": "execute_result"
    }
   ],
   "source": [
    "np.split(a,3) #np.split(a,3)    #this will raise an error"
   ]
  },
  {
   "cell_type": "code",
   "execution_count": 211,
   "id": "bfe13f11-d0f4-45d1-842c-544e0957985e",
   "metadata": {},
   "outputs": [],
   "source": [
    "# for splitting an array into unequal parts use list of index"
   ]
  },
  {
   "cell_type": "code",
   "execution_count": 212,
   "id": "cd2a0ee9-94b2-46ff-9c5b-2e3da2755897",
   "metadata": {},
   "outputs": [],
   "source": [
    "b=np.arange(14)\n"
   ]
  },
  {
   "cell_type": "code",
   "execution_count": 213,
   "id": "9cf9f1d4-cec9-4344-8112-5facf1fe3cc2",
   "metadata": {},
   "outputs": [
    {
     "data": {
      "text/plain": [
       "array([ 0,  1,  2,  3,  4,  5,  6,  7,  8,  9, 10, 11, 12, 13])"
      ]
     },
     "execution_count": 213,
     "metadata": {},
     "output_type": "execute_result"
    }
   ],
   "source": [
    "b"
   ]
  },
  {
   "cell_type": "code",
   "execution_count": 216,
   "id": "df8b10eb-824d-4989-b4d9-6c4a4b7ed4d7",
   "metadata": {},
   "outputs": [],
   "source": [
    "x=np.split(b,[3,11])"
   ]
  },
  {
   "cell_type": "code",
   "execution_count": 217,
   "id": "e97b4459-8592-4a6f-9cfc-447c534ff914",
   "metadata": {},
   "outputs": [
    {
     "data": {
      "text/plain": [
       "[array([0, 1, 2]),\n",
       " array([ 3,  4,  5,  6,  7,  8,  9, 10]),\n",
       " array([11, 12, 13])]"
      ]
     },
     "execution_count": 217,
     "metadata": {},
     "output_type": "execute_result"
    }
   ],
   "source": [
    "x"
   ]
  },
  {
   "cell_type": "code",
   "execution_count": 218,
   "id": "6d9bd5a9-6343-454c-980a-2ec718f0347a",
   "metadata": {},
   "outputs": [],
   "source": [
    "y=np.split(b,[2,3,4,5,11,14])"
   ]
  },
  {
   "cell_type": "code",
   "execution_count": 220,
   "id": "70e9b593-8069-4501-9ea4-57b3ea68f92c",
   "metadata": {},
   "outputs": [
    {
     "data": {
      "text/plain": [
       "[array([0, 1]),\n",
       " array([2]),\n",
       " array([3]),\n",
       " array([4]),\n",
       " array([ 5,  6,  7,  8,  9, 10]),\n",
       " array([11, 12, 13]),\n",
       " array([], dtype=int32)]"
      ]
     },
     "execution_count": 220,
     "metadata": {},
     "output_type": "execute_result"
    }
   ],
   "source": [
    "y           # 14th index is not present so it will return an empty array"
   ]
  },
  {
   "cell_type": "markdown",
   "id": "4c8322db-4f92-4500-8b78-647b236237fe",
   "metadata": {},
   "source": [
    "<h1>Horizontal split</h1>"
   ]
  },
  {
   "cell_type": "code",
   "execution_count": 224,
   "id": "45211fab-db7d-40a2-bece-6f12d3202d45",
   "metadata": {},
   "outputs": [],
   "source": [
    "x=np.arange(16).reshape(4,4)"
   ]
  },
  {
   "cell_type": "code",
   "execution_count": 225,
   "id": "f2be1fdd-cdf9-4d62-a4db-e964ddf60668",
   "metadata": {},
   "outputs": [
    {
     "data": {
      "text/plain": [
       "array([[ 0,  1,  2,  3],\n",
       "       [ 4,  5,  6,  7],\n",
       "       [ 8,  9, 10, 11],\n",
       "       [12, 13, 14, 15]])"
      ]
     },
     "execution_count": 225,
     "metadata": {},
     "output_type": "execute_result"
    }
   ],
   "source": [
    "x"
   ]
  },
  {
   "cell_type": "code",
   "execution_count": 229,
   "id": "413eece1-f61a-42aa-8f9f-d33dd46906a7",
   "metadata": {},
   "outputs": [
    {
     "data": {
      "text/plain": [
       "[array([[ 0,  1],\n",
       "        [ 4,  5],\n",
       "        [ 8,  9],\n",
       "        [12, 13]]),\n",
       " array([[ 2,  3],\n",
       "        [ 6,  7],\n",
       "        [10, 11],\n",
       "        [14, 15]])]"
      ]
     },
     "execution_count": 229,
     "metadata": {},
     "output_type": "execute_result"
    }
   ],
   "source": [
    "np.hsplit(x,2)"
   ]
  },
  {
   "cell_type": "code",
   "execution_count": 231,
   "id": "3428dc0c-6fdf-4120-b0c3-4787b110fb7e",
   "metadata": {},
   "outputs": [
    {
     "data": {
      "text/plain": [
       "[array([[ 0,  1],\n",
       "        [ 4,  5],\n",
       "        [ 8,  9],\n",
       "        [12, 13]]),\n",
       " array([[ 2],\n",
       "        [ 6],\n",
       "        [10],\n",
       "        [14]]),\n",
       " array([[ 3],\n",
       "        [ 7],\n",
       "        [11],\n",
       "        [15]]),\n",
       " array([], shape=(4, 0), dtype=int32)]"
      ]
     },
     "execution_count": 231,
     "metadata": {},
     "output_type": "execute_result"
    }
   ],
   "source": [
    "np.hsplit(x,[2,3,6]) #index wise splitting"
   ]
  },
  {
   "cell_type": "markdown",
   "id": "2bc082e5-dfd2-4a27-93b2-7b858047c3c3",
   "metadata": {},
   "source": [
    "<h1>Vartical split</h1>"
   ]
  },
  {
   "cell_type": "code",
   "execution_count": 236,
   "id": "1320740f-129f-4fed-8baa-92d22b09ae49",
   "metadata": {},
   "outputs": [
    {
     "data": {
      "text/plain": [
       "[array([[0, 1, 2, 3]]),\n",
       " array([[4, 5, 6, 7]]),\n",
       " array([[ 8,  9, 10, 11]]),\n",
       " array([[12, 13, 14, 15]])]"
      ]
     },
     "execution_count": 236,
     "metadata": {},
     "output_type": "execute_result"
    }
   ],
   "source": [
    "np.vsplit(x,4)"
   ]
  },
  {
   "cell_type": "code",
   "execution_count": 237,
   "id": "15af4b33-e965-4886-9345-91f7082bfb47",
   "metadata": {},
   "outputs": [
    {
     "data": {
      "text/plain": [
       "[array([[0, 1, 2, 3],\n",
       "        [4, 5, 6, 7]]),\n",
       " array([[ 8,  9, 10, 11]]),\n",
       " array([[12, 13, 14, 15]]),\n",
       " array([], shape=(0, 4), dtype=int32)]"
      ]
     },
     "execution_count": 237,
     "metadata": {},
     "output_type": "execute_result"
    }
   ],
   "source": [
    "np.vsplit(x,[2,3,6])"
   ]
  },
  {
   "cell_type": "code",
   "execution_count": null,
   "id": "2436105a-b5dd-4f40-923f-1f9a1a8ebf70",
   "metadata": {},
   "outputs": [],
   "source": []
  }
 ],
 "metadata": {
  "kernelspec": {
   "display_name": "Python 3 (ipykernel)",
   "language": "python",
   "name": "python3"
  },
  "language_info": {
   "codemirror_mode": {
    "name": "ipython",
    "version": 3
   },
   "file_extension": ".py",
   "mimetype": "text/x-python",
   "name": "python",
   "nbconvert_exporter": "python",
   "pygments_lexer": "ipython3",
   "version": "3.12.1"
  }
 },
 "nbformat": 4,
 "nbformat_minor": 5
}
