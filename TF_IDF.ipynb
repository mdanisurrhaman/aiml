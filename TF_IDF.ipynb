{
 "cells": [
  {
   "cell_type": "code",
   "execution_count": 1,
   "id": "e1e5ea3c-7621-419c-8e5e-610e15975157",
   "metadata": {},
   "outputs": [],
   "source": [
    "texts=[\n",
    "    \"the cat sat on the mat\",\n",
    "    \"the cat sat\",\n",
    "    \"the dog broked\",\n",
    "]"
   ]
  },
  {
   "cell_type": "code",
   "execution_count": 7,
   "id": "e48916d7-1c9f-405c-8d54-63b25209c325",
   "metadata": {},
   "outputs": [
    {
     "name": "stdout",
     "output_type": "stream",
     "text": [
      "  (0, 3)\t1.6931471805599454\n",
      "  (0, 4)\t1.6931471805599454\n",
      "  (0, 5)\t1.2876820724517808\n",
      "  (0, 1)\t1.2876820724517808\n",
      "  (0, 6)\t2.0\n",
      "  (1, 5)\t1.2876820724517808\n",
      "  (1, 1)\t1.2876820724517808\n",
      "  (1, 6)\t1.0\n",
      "  (2, 0)\t1.6931471805599454\n",
      "  (2, 2)\t1.6931471805599454\n",
      "  (2, 6)\t1.0\n"
     ]
    }
   ],
   "source": [
    "from sklearn.feature_extraction.text import TfidfVectorizer\n",
    "vectorizer=TfidfVectorizer(norm=None )\n",
    "x=vectorizer.fit_transform(texts)\n",
    "print(x)"
   ]
  },
  {
   "cell_type": "code",
   "execution_count": 8,
   "id": "1bd98aa6-f43d-473d-839c-d7fe3e52c285",
   "metadata": {},
   "outputs": [
    {
     "name": "stdout",
     "output_type": "stream",
     "text": [
      "  (0, 3)\t1.6931471805599454\n",
      "  (0, 4)\t1.6931471805599454\n",
      "  (0, 5)\t1.2876820724517808\n",
      "  (0, 1)\t1.2876820724517808\n",
      "  (0, 6)\t2.0\n",
      "  (1, 5)\t1.2876820724517808\n",
      "  (1, 1)\t1.2876820724517808\n",
      "  (1, 6)\t1.0\n",
      "  (2, 0)\t1.6931471805599454\n",
      "  (2, 2)\t1.6931471805599454\n",
      "  (2, 6)\t1.0\n"
     ]
    }
   ],
   "source": [
    "print(x)"
   ]
  },
  {
   "cell_type": "code",
   "execution_count": 11,
   "id": "c7e96a68-8347-43fd-b852-33f80f5ab30a",
   "metadata": {},
   "outputs": [
    {
     "name": "stdout",
     "output_type": "stream",
     "text": [
      "  (0, 6)\t2.0\n",
      "  (0, 5)\t1.2876820724517808\n",
      "  (0, 4)\t1.6931471805599454\n",
      "  (0, 3)\t1.6931471805599454\n",
      "  (0, 1)\t1.2876820724517808\n",
      "  (1, 6)\t1.0\n",
      "  (1, 5)\t1.2876820724517808\n",
      "  (1, 1)\t1.2876820724517808\n",
      "  (2, 6)\t1.0\n",
      "  (2, 2)\t1.6931471805599454\n",
      "  (2, 0)\t1.6931471805599454\n"
     ]
    }
   ],
   "source": [
    "x= vectorizer.transform(texts)\n",
    "print(x)"
   ]
  },
  {
   "cell_type": "code",
   "execution_count": null,
   "id": "195166bc-987f-4e21-a66b-189698abfaf0",
   "metadata": {},
   "outputs": [],
   "source": []
  }
 ],
 "metadata": {
  "kernelspec": {
   "display_name": "Python 3 (ipykernel)",
   "language": "python",
   "name": "python3"
  },
  "language_info": {
   "codemirror_mode": {
    "name": "ipython",
    "version": 3
   },
   "file_extension": ".py",
   "mimetype": "text/x-python",
   "name": "python",
   "nbconvert_exporter": "python",
   "pygments_lexer": "ipython3",
   "version": "3.12.1"
  }
 },
 "nbformat": 4,
 "nbformat_minor": 5
}
