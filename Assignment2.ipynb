{
 "cells": [
  {
   "cell_type": "markdown",
   "id": "203ae546-8108-4f9d-95e1-de7a68905d74",
   "metadata": {},
   "source": [
    "<h1>Compute Confusion Matrix for given  Y and Y_score without sklearn</h1>"
   ]
  },
  {
   "cell_type": "code",
   "execution_count": 2,
   "id": "0cfd8906-b2f6-4234-8f28-c6e04121bdea",
   "metadata": {},
   "outputs": [],
   "source": [
    "import numpy as np\n",
    "import pandas as pd\n",
    "from sklearn.metrics import accuracy_score\n"
   ]
  },
  {
   "cell_type": "markdown",
   "id": "8e59ca1d-127c-40a8-a9be-44630d872bb3",
   "metadata": {},
   "source": [
    "<pre>\n",
    "<ol>\n",
    "<li> Compute Confusion Matrix </li>\n",
    "<li> Compute F1 Score </li>\n",
    "<li> Compute Accuracy Score </li>\n",
    "</ol>\n",
    "</pre>"
   ]
  },
  {
   "cell_type": "code",
   "execution_count": 3,
   "id": "d3c4a2e7-d521-4488-8900-838a010d08c0",
   "metadata": {},
   "outputs": [
    {
     "data": {
      "text/html": [
       "<div>\n",
       "<style scoped>\n",
       "    .dataframe tbody tr th:only-of-type {\n",
       "        vertical-align: middle;\n",
       "    }\n",
       "\n",
       "    .dataframe tbody tr th {\n",
       "        vertical-align: top;\n",
       "    }\n",
       "\n",
       "    .dataframe thead th {\n",
       "        text-align: right;\n",
       "    }\n",
       "</style>\n",
       "<table border=\"1\" class=\"dataframe\">\n",
       "  <thead>\n",
       "    <tr style=\"text-align: right;\">\n",
       "      <th></th>\n",
       "      <th>y</th>\n",
       "      <th>proba</th>\n",
       "    </tr>\n",
       "  </thead>\n",
       "  <tbody>\n",
       "    <tr>\n",
       "      <th>0</th>\n",
       "      <td>1.0</td>\n",
       "      <td>0.637387</td>\n",
       "    </tr>\n",
       "    <tr>\n",
       "      <th>1</th>\n",
       "      <td>1.0</td>\n",
       "      <td>0.635165</td>\n",
       "    </tr>\n",
       "    <tr>\n",
       "      <th>2</th>\n",
       "      <td>1.0</td>\n",
       "      <td>0.766586</td>\n",
       "    </tr>\n",
       "    <tr>\n",
       "      <th>3</th>\n",
       "      <td>1.0</td>\n",
       "      <td>0.724564</td>\n",
       "    </tr>\n",
       "    <tr>\n",
       "      <th>4</th>\n",
       "      <td>1.0</td>\n",
       "      <td>0.889199</td>\n",
       "    </tr>\n",
       "  </tbody>\n",
       "</table>\n",
       "</div>"
      ],
      "text/plain": [
       "     y     proba\n",
       "0  1.0  0.637387\n",
       "1  1.0  0.635165\n",
       "2  1.0  0.766586\n",
       "3  1.0  0.724564\n",
       "4  1.0  0.889199"
      ]
     },
     "execution_count": 3,
     "metadata": {},
     "output_type": "execute_result"
    }
   ],
   "source": [
    "df=pd.read_csv(\"Assignment2.csv\")\n",
    "df.head()"
   ]
  },
  {
   "cell_type": "code",
   "execution_count": 4,
   "id": "46f646a6-6cd6-4e2b-b16f-5492f2ee074a",
   "metadata": {},
   "outputs": [
    {
     "data": {
      "text/plain": [
       "y\n",
       "1.0    10000\n",
       "0.0      100\n",
       "Name: count, dtype: int64"
      ]
     },
     "execution_count": 4,
     "metadata": {},
     "output_type": "execute_result"
    }
   ],
   "source": [
    "df['y'].value_counts()"
   ]
  },
  {
   "cell_type": "code",
   "execution_count": 5,
   "id": "7268b50e-fd8e-43c0-8b42-03a9edc5f215",
   "metadata": {},
   "outputs": [
    {
     "data": {
      "text/plain": [
       "10090    1\n",
       "10091    1\n",
       "10092    1\n",
       "10093    1\n",
       "10094    1\n",
       "10095    1\n",
       "10096    1\n",
       "10097    1\n",
       "10098    1\n",
       "10099    1\n",
       "Name: proba, dtype: int64"
      ]
     },
     "execution_count": 5,
     "metadata": {},
     "output_type": "execute_result"
    }
   ],
   "source": [
    "# Adding a new column to the dataset- 'y_pred' and populating it as per the requirement\n",
    "#  i.e. 𝑦𝑝𝑟𝑒𝑑=[0 if y_score < 0.5 else 1] \n",
    "y_pred = df['proba'].map(lambda X:1 if X > 0.5 else 0)\n",
    "y_pred.tail(10)\n",
    "\n"
   ]
  },
  {
   "cell_type": "code",
   "execution_count": 6,
   "id": "a824ff15-818f-4193-8c36-76616b8fe66d",
   "metadata": {},
   "outputs": [],
   "source": [
    "# Checking how many data points are predicted to be of class 1\n",
    "# len(data_5a[data_5a['y_pred']==1])\n",
    "\n",
    "# OBSERVATION - All the points are predicted to belong to class 1\n"
   ]
  },
  {
   "cell_type": "code",
   "execution_count": 7,
   "id": "bffaaec0-1664-48ba-a9ed-cdf7e2f039e0",
   "metadata": {},
   "outputs": [
    {
     "data": {
      "text/plain": [
       "10100"
      ]
     },
     "execution_count": 7,
     "metadata": {},
     "output_type": "execute_result"
    }
   ],
   "source": [
    "y_pred=list(y_pred)\n",
    "\n",
    "len(y_pred)"
   ]
  },
  {
   "cell_type": "code",
   "execution_count": 8,
   "id": "dfa746a0-34ea-43c0-ae4c-9df9e2b875c5",
   "metadata": {},
   "outputs": [
    {
     "data": {
      "text/html": [
       "<div>\n",
       "<style scoped>\n",
       "    .dataframe tbody tr th:only-of-type {\n",
       "        vertical-align: middle;\n",
       "    }\n",
       "\n",
       "    .dataframe tbody tr th {\n",
       "        vertical-align: top;\n",
       "    }\n",
       "\n",
       "    .dataframe thead th {\n",
       "        text-align: right;\n",
       "    }\n",
       "</style>\n",
       "<table border=\"1\" class=\"dataframe\">\n",
       "  <thead>\n",
       "    <tr style=\"text-align: right;\">\n",
       "      <th></th>\n",
       "      <th>y</th>\n",
       "      <th>proba</th>\n",
       "      <th>y_pred</th>\n",
       "    </tr>\n",
       "  </thead>\n",
       "  <tbody>\n",
       "    <tr>\n",
       "      <th>0</th>\n",
       "      <td>1.0</td>\n",
       "      <td>0.637387</td>\n",
       "      <td>1</td>\n",
       "    </tr>\n",
       "    <tr>\n",
       "      <th>1</th>\n",
       "      <td>1.0</td>\n",
       "      <td>0.635165</td>\n",
       "      <td>1</td>\n",
       "    </tr>\n",
       "    <tr>\n",
       "      <th>2</th>\n",
       "      <td>1.0</td>\n",
       "      <td>0.766586</td>\n",
       "      <td>1</td>\n",
       "    </tr>\n",
       "    <tr>\n",
       "      <th>3</th>\n",
       "      <td>1.0</td>\n",
       "      <td>0.724564</td>\n",
       "      <td>1</td>\n",
       "    </tr>\n",
       "    <tr>\n",
       "      <th>4</th>\n",
       "      <td>1.0</td>\n",
       "      <td>0.889199</td>\n",
       "      <td>1</td>\n",
       "    </tr>\n",
       "    <tr>\n",
       "      <th>...</th>\n",
       "      <td>...</td>\n",
       "      <td>...</td>\n",
       "      <td>...</td>\n",
       "    </tr>\n",
       "    <tr>\n",
       "      <th>10095</th>\n",
       "      <td>1.0</td>\n",
       "      <td>0.665371</td>\n",
       "      <td>1</td>\n",
       "    </tr>\n",
       "    <tr>\n",
       "      <th>10096</th>\n",
       "      <td>1.0</td>\n",
       "      <td>0.607961</td>\n",
       "      <td>1</td>\n",
       "    </tr>\n",
       "    <tr>\n",
       "      <th>10097</th>\n",
       "      <td>1.0</td>\n",
       "      <td>0.777724</td>\n",
       "      <td>1</td>\n",
       "    </tr>\n",
       "    <tr>\n",
       "      <th>10098</th>\n",
       "      <td>1.0</td>\n",
       "      <td>0.846036</td>\n",
       "      <td>1</td>\n",
       "    </tr>\n",
       "    <tr>\n",
       "      <th>10099</th>\n",
       "      <td>1.0</td>\n",
       "      <td>0.679507</td>\n",
       "      <td>1</td>\n",
       "    </tr>\n",
       "  </tbody>\n",
       "</table>\n",
       "<p>10100 rows × 3 columns</p>\n",
       "</div>"
      ],
      "text/plain": [
       "         y     proba  y_pred\n",
       "0      1.0  0.637387       1\n",
       "1      1.0  0.635165       1\n",
       "2      1.0  0.766586       1\n",
       "3      1.0  0.724564       1\n",
       "4      1.0  0.889199       1\n",
       "...    ...       ...     ...\n",
       "10095  1.0  0.665371       1\n",
       "10096  1.0  0.607961       1\n",
       "10097  1.0  0.777724       1\n",
       "10098  1.0  0.846036       1\n",
       "10099  1.0  0.679507       1\n",
       "\n",
       "[10100 rows x 3 columns]"
      ]
     },
     "execution_count": 8,
     "metadata": {},
     "output_type": "execute_result"
    }
   ],
   "source": [
    "df['y_pred']=y_pred\n",
    "df"
   ]
  },
  {
   "cell_type": "code",
   "execution_count": 29,
   "id": "0a215ad9-78e5-43eb-8c80-0d067344826e",
   "metadata": {},
   "outputs": [
    {
     "data": {
      "text/plain": [
       "10100"
      ]
     },
     "execution_count": 29,
     "metadata": {},
     "output_type": "execute_result"
    }
   ],
   "source": [
    "len(df[df['y_pred']==1])"
   ]
  },
  {
   "cell_type": "code",
   "execution_count": null,
   "id": "2d17f774-41fa-45a3-b60a-604948db1db5",
   "metadata": {},
   "outputs": [],
   "source": []
  },
  {
   "cell_type": "markdown",
   "id": "3623b69c-d9b7-40af-b306-fc7313fca3ff",
   "metadata": {},
   "source": [
    "<h1>Confusion Matrix</h1>"
   ]
  },
  {
   "cell_type": "code",
   "execution_count": 11,
   "id": "ddf0880c-86fb-4d20-ae77-c549fbb88724",
   "metadata": {},
   "outputs": [],
   "source": [
    "y=df['y']\n",
    "y=list(y)"
   ]
  },
  {
   "cell_type": "code",
   "execution_count": 12,
   "id": "c7ea143b-8e0a-46fb-8bb0-1187788614a0",
   "metadata": {},
   "outputs": [
    {
     "name": "stdout",
     "output_type": "stream",
     "text": [
      "Confusion Matrix for 5a is :\n",
      "TPs:  10000\n",
      "FPs:  100\n",
      "TNs:  0\n",
      "FNs:  0\n"
     ]
    }
   ],
   "source": [
    "# Formulas:\n",
    "# P = TP + FN\n",
    "# N = FP + TN\n",
    "\n",
    "# we already know that:\n",
    "P = 10000\n",
    "N = 100\n",
    "\n",
    "# Calulating True Positives TPs\n",
    "TP=0\n",
    "for i in range(len(df)):\n",
    "    if df.loc[i,'y']==1 and df.loc[i,'y_pred']==1:\n",
    "                TP+=1\n",
    "\n",
    "# Calulating False Negatives FNs\n",
    "FN = P-TP\n",
    "\n",
    "# Calulating True Negatives TNs\n",
    "TN=0\n",
    "for i in range(len(df)):\n",
    "        if df.loc[i,'y']==0 and df.loc[i,'y_pred']==0:\n",
    "                TN+=1\n",
    "        \n",
    "# Calulating False Positives FPs\n",
    "FP = N-TN\n",
    "\n",
    "print(\"Confusion Matrix for 5a is :\")\n",
    "print('TPs: ',TP) \n",
    "print('FPs: ',FP) \n",
    "print('TNs: ',TN) \n",
    "print('FNs: ',FN) "
   ]
  },
  {
   "cell_type": "markdown",
   "id": "19fd6ca6-d1ab-4612-8947-fadd2e579136",
   "metadata": {},
   "source": [
    "<h1> 2 - F1 Score</h1>"
   ]
  },
  {
   "cell_type": "code",
   "execution_count": 13,
   "id": "b437e28d-d7db-41b1-bc66-e94ad296b52d",
   "metadata": {},
   "outputs": [
    {
     "name": "stdout",
     "output_type": "stream",
     "text": [
      "F1Score for 5a is:  0.9950248756218906\n"
     ]
    }
   ],
   "source": [
    "Precision = TP/(TP+FP)\n",
    "Recall = TP/P\n",
    "\n",
    "F1_Score = 2* ((Precision*Recall)/(Precision+Recall))\n",
    "print('F1Score for 5a is: ', F1_Score)"
   ]
  },
  {
   "cell_type": "code",
   "execution_count": 54,
   "id": "31a7a36e-2c11-400e-a0d4-5e8f4868da64",
   "metadata": {},
   "outputs": [],
   "source": [
    "# Observation-\n",
    "#            Since we have very high number of positive points in this imbalanmced dataset and we are keeping the threshold\n",
    "#            0.5 so we are also getting all the predictions as +ve hence TP is high so Precison and recall are high\n",
    "#            which in turn makes the F1 score very high\n"
   ]
  },
  {
   "cell_type": "code",
   "execution_count": null,
   "id": "326ee06b-2258-4a33-ab36-3304f1b28330",
   "metadata": {},
   "outputs": [],
   "source": []
  },
  {
   "cell_type": "markdown",
   "id": "b8d5be42-1f93-4a5b-8c43-eb1c5c16384f",
   "metadata": {},
   "source": [
    "<h1>3 - ACCURACY Score</h1>"
   ]
  },
  {
   "cell_type": "code",
   "execution_count": 57,
   "id": "f273d49d-176e-4795-b13f-f0a3154c36c4",
   "metadata": {},
   "outputs": [
    {
     "data": {
      "text/html": [
       "<div>\n",
       "<style scoped>\n",
       "    .dataframe tbody tr th:only-of-type {\n",
       "        vertical-align: middle;\n",
       "    }\n",
       "\n",
       "    .dataframe tbody tr th {\n",
       "        vertical-align: top;\n",
       "    }\n",
       "\n",
       "    .dataframe thead th {\n",
       "        text-align: right;\n",
       "    }\n",
       "</style>\n",
       "<table border=\"1\" class=\"dataframe\">\n",
       "  <thead>\n",
       "    <tr style=\"text-align: right;\">\n",
       "      <th></th>\n",
       "      <th>y</th>\n",
       "      <th>proba</th>\n",
       "    </tr>\n",
       "  </thead>\n",
       "  <tbody>\n",
       "    <tr>\n",
       "      <th>0</th>\n",
       "      <td>1.0</td>\n",
       "      <td>0.637387</td>\n",
       "    </tr>\n",
       "    <tr>\n",
       "      <th>1</th>\n",
       "      <td>1.0</td>\n",
       "      <td>0.635165</td>\n",
       "    </tr>\n",
       "  </tbody>\n",
       "</table>\n",
       "</div>"
      ],
      "text/plain": [
       "     y     proba\n",
       "0  1.0  0.637387\n",
       "1  1.0  0.635165"
      ]
     },
     "execution_count": 57,
     "metadata": {},
     "output_type": "execute_result"
    }
   ],
   "source": [
    "df=pd.read_csv(\"Assignment2.csv\")\n",
    "df.head(2)"
   ]
  },
  {
   "cell_type": "code",
   "execution_count": 34,
   "id": "50d0a320-5056-4064-a868-3d5b3a4ccf28",
   "metadata": {},
   "outputs": [],
   "source": [
    "# Adding a new column to the dataset- 'y_pred' and populating it as per the requirement\n",
    "#  i.e. 𝑦𝑝𝑟𝑒𝑑=[0 if y_score < 0.5 else 1]\n",
    "for i in range(len(df)):\n",
    "    if df.loc[i,'proba']<0.5:\n",
    "        1\n",
    "    else:\n",
    "        2"
   ]
  },
  {
   "cell_type": "code",
   "execution_count": 35,
   "id": "40ccbf25-98e3-4f43-8c96-969ef224e8d0",
   "metadata": {},
   "outputs": [
    {
     "name": "stdout",
     "output_type": "stream",
     "text": [
      "Accuracy Score is:  0.9900990099009901\n"
     ]
    }
   ],
   "source": [
    "# Accuracy_Score = Number of correctly classified points/Total number of points\n",
    "total = len(df)\n",
    "correct = 0\n",
    "for i in range(total):\n",
    "    if y[i]==y_pred[i]:\n",
    "        correct+=1\n",
    "\n",
    "Accuracy_Score  = correct/total     \n",
    "print(\"Accuracy Score is: \", Accuracy_Score)"
   ]
  },
  {
   "cell_type": "code",
   "execution_count": 39,
   "id": "d4ce9d9e-fefe-41f3-9677-cb1d952b99e1",
   "metadata": {},
   "outputs": [
    {
     "name": "stdout",
     "output_type": "stream",
     "text": [
      "Accuracy: 100.00%\n"
     ]
    }
   ],
   "source": [
    "# OBSERVATION - \n",
    "#             Accuarcy is high as we have kept threshold to be 0.5 and all the points have proba above 0.5\n",
    "predicted_probabilities = np.array([0.7, 0.8, 0.6, 0.9, 0.95])\n",
    "true_labels = np.array([1, 1, 1, 1, 1])\n",
    "threshold=0.5\n",
    "predicted_labels = (predicted_probabilities >= threshold).astype(int)\n",
    "accuracy = accuracy_score(true_labels, predicted_labels)\n",
    "print(f\"Accuracy: {accuracy * 100:.2f}%\")"
   ]
  },
  {
   "cell_type": "code",
   "execution_count": null,
   "id": "96735252-0c19-4498-b00d-8523aee01a87",
   "metadata": {},
   "outputs": [],
   "source": []
  }
 ],
 "metadata": {
  "kernelspec": {
   "display_name": "Python 3 (ipykernel)",
   "language": "python",
   "name": "python3"
  },
  "language_info": {
   "codemirror_mode": {
    "name": "ipython",
    "version": 3
   },
   "file_extension": ".py",
   "mimetype": "text/x-python",
   "name": "python",
   "nbconvert_exporter": "python",
   "pygments_lexer": "ipython3",
   "version": "3.12.1"
  }
 },
 "nbformat": 4,
 "nbformat_minor": 5
}
